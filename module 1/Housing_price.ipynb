{
 "cells": [
  {
   "cell_type": "code",
   "execution_count": 1,
   "metadata": {
    "colab": {
     "base_uri": "https://localhost:8080/",
     "height": 122
    },
    "colab_type": "code",
    "executionInfo": {
     "elapsed": 39968,
     "status": "ok",
     "timestamp": 1565185866412,
     "user": {
      "displayName": "Ranjith M.S",
      "photoUrl": "",
      "userId": "03619660690537035466"
     },
     "user_tz": -330
    },
    "id": "RHFdDxoKofyd",
    "outputId": "325abe5c-7a47-43c4-8166-4a1c626684fc"
   },
   "outputs": [
    {
     "name": "stdout",
     "output_type": "stream",
     "text": [
      "Go to this URL in a browser: https://accounts.google.com/o/oauth2/auth?client_id=947318989803-6bn6qk8qdgf4n4g3pfee6491hc0brc4i.apps.googleusercontent.com&redirect_uri=urn%3Aietf%3Awg%3Aoauth%3A2.0%3Aoob&scope=email%20https%3A%2F%2Fwww.googleapis.com%2Fauth%2Fdocs.test%20https%3A%2F%2Fwww.googleapis.com%2Fauth%2Fdrive%20https%3A%2F%2Fwww.googleapis.com%2Fauth%2Fdrive.photos.readonly%20https%3A%2F%2Fwww.googleapis.com%2Fauth%2Fpeopleapi.readonly&response_type=code\n",
      "\n",
      "Enter your authorization code:\n",
      "··········\n",
      "Mounted at /content/drive\n"
     ]
    }
   ],
   "source": [
    "from google.colab import drive\n",
    "drive.mount('/content/drive')"
   ]
  },
  {
   "cell_type": "code",
   "execution_count": 2,
   "metadata": {
    "colab": {
     "base_uri": "https://localhost:8080/",
     "height": 34
    },
    "colab_type": "code",
    "executionInfo": {
     "elapsed": 3385,
     "status": "ok",
     "timestamp": 1565185871135,
     "user": {
      "displayName": "Ranjith M.S",
      "photoUrl": "",
      "userId": "03619660690537035466"
     },
     "user_tz": -330
    },
    "id": "W3svbP7Honup",
    "outputId": "f69355e7-c106-471e-bb3a-169ebebd7b30"
   },
   "outputs": [
    {
     "name": "stdout",
     "output_type": "stream",
     "text": [
      "/content/drive/My Drive/Colab Notebooks/ML workshop/Housing_price\n"
     ]
    }
   ],
   "source": [
    "import os\n",
    "os.chdir('drive/My Drive/Colab Notebooks/ML_and_NN_course/module 1')\n",
    "cwd=os.getcwd()\n",
    "print(cwd)"
   ]
  },
  {
   "cell_type": "code",
   "execution_count": 1,
   "metadata": {
    "colab": {},
    "colab_type": "code",
    "id": "cazB7H1HpFGT"
   },
   "outputs": [],
   "source": [
    "import numpy as np\n",
    "import pandas as pd\n",
    "import matplotlib.pyplot as plt\n",
    "from utils import *"
   ]
  },
  {
   "cell_type": "code",
   "execution_count": 2,
   "metadata": {
    "colab": {
     "base_uri": "https://localhost:8080/",
     "height": 204
    },
    "colab_type": "code",
    "executionInfo": {
     "elapsed": 1107,
     "status": "ok",
     "timestamp": 1565185876362,
     "user": {
      "displayName": "Ranjith M.S",
      "photoUrl": "",
      "userId": "03619660690537035466"
     },
     "user_tz": -330
    },
    "id": "YFw8y5wgYWkd",
    "outputId": "04147752-f2ec-48f3-e2ab-33718e0091e7"
   },
   "outputs": [
    {
     "data": {
      "text/html": [
       "<div>\n",
       "<style scoped>\n",
       "    .dataframe tbody tr th:only-of-type {\n",
       "        vertical-align: middle;\n",
       "    }\n",
       "\n",
       "    .dataframe tbody tr th {\n",
       "        vertical-align: top;\n",
       "    }\n",
       "\n",
       "    .dataframe thead th {\n",
       "        text-align: right;\n",
       "    }\n",
       "</style>\n",
       "<table border=\"1\" class=\"dataframe\">\n",
       "  <thead>\n",
       "    <tr style=\"text-align: right;\">\n",
       "      <th></th>\n",
       "      <th>size</th>\n",
       "      <th>price</th>\n",
       "    </tr>\n",
       "  </thead>\n",
       "  <tbody>\n",
       "    <tr>\n",
       "      <th>0</th>\n",
       "      <td>1600</td>\n",
       "      <td>329900</td>\n",
       "    </tr>\n",
       "    <tr>\n",
       "      <th>1</th>\n",
       "      <td>2400</td>\n",
       "      <td>369000</td>\n",
       "    </tr>\n",
       "    <tr>\n",
       "      <th>2</th>\n",
       "      <td>1416</td>\n",
       "      <td>232000</td>\n",
       "    </tr>\n",
       "    <tr>\n",
       "      <th>3</th>\n",
       "      <td>3000</td>\n",
       "      <td>539900</td>\n",
       "    </tr>\n",
       "    <tr>\n",
       "      <th>4</th>\n",
       "      <td>1985</td>\n",
       "      <td>299900</td>\n",
       "    </tr>\n",
       "  </tbody>\n",
       "</table>\n",
       "</div>"
      ],
      "text/plain": [
       "   size   price\n",
       "0  1600  329900\n",
       "1  2400  369000\n",
       "2  1416  232000\n",
       "3  3000  539900\n",
       "4  1985  299900"
      ]
     },
     "execution_count": 2,
     "metadata": {},
     "output_type": "execute_result"
    }
   ],
   "source": [
    "data = pd.read_csv('train_data.csv', sep = ',')\n",
    "data.head()"
   ]
  },
  {
   "cell_type": "code",
   "execution_count": 3,
   "metadata": {
    "colab": {
     "base_uri": "https://localhost:8080/",
     "height": 297
    },
    "colab_type": "code",
    "executionInfo": {
     "elapsed": 968,
     "status": "ok",
     "timestamp": 1565185877930,
     "user": {
      "displayName": "Ranjith M.S",
      "photoUrl": "",
      "userId": "03619660690537035466"
     },
     "user_tz": -330
    },
    "id": "yl-DN1hTcpAb",
    "outputId": "82428893-3dc3-436c-87b1-9613d978bc66"
   },
   "outputs": [
    {
     "data": {
      "text/html": [
       "<div>\n",
       "<style scoped>\n",
       "    .dataframe tbody tr th:only-of-type {\n",
       "        vertical-align: middle;\n",
       "    }\n",
       "\n",
       "    .dataframe tbody tr th {\n",
       "        vertical-align: top;\n",
       "    }\n",
       "\n",
       "    .dataframe thead th {\n",
       "        text-align: right;\n",
       "    }\n",
       "</style>\n",
       "<table border=\"1\" class=\"dataframe\">\n",
       "  <thead>\n",
       "    <tr style=\"text-align: right;\">\n",
       "      <th></th>\n",
       "      <th>size</th>\n",
       "      <th>price</th>\n",
       "    </tr>\n",
       "  </thead>\n",
       "  <tbody>\n",
       "    <tr>\n",
       "      <th>count</th>\n",
       "      <td>46.000000</td>\n",
       "      <td>46.000000</td>\n",
       "    </tr>\n",
       "    <tr>\n",
       "      <th>mean</th>\n",
       "      <td>1998.434783</td>\n",
       "      <td>339119.456522</td>\n",
       "    </tr>\n",
       "    <tr>\n",
       "      <th>std</th>\n",
       "      <td>803.333019</td>\n",
       "      <td>126103.418369</td>\n",
       "    </tr>\n",
       "    <tr>\n",
       "      <th>min</th>\n",
       "      <td>852.000000</td>\n",
       "      <td>169900.000000</td>\n",
       "    </tr>\n",
       "    <tr>\n",
       "      <th>25%</th>\n",
       "      <td>1429.500000</td>\n",
       "      <td>249900.000000</td>\n",
       "    </tr>\n",
       "    <tr>\n",
       "      <th>50%</th>\n",
       "      <td>1870.000000</td>\n",
       "      <td>299900.000000</td>\n",
       "    </tr>\n",
       "    <tr>\n",
       "      <th>75%</th>\n",
       "      <td>2284.500000</td>\n",
       "      <td>368875.000000</td>\n",
       "    </tr>\n",
       "    <tr>\n",
       "      <th>max</th>\n",
       "      <td>4478.000000</td>\n",
       "      <td>699900.000000</td>\n",
       "    </tr>\n",
       "  </tbody>\n",
       "</table>\n",
       "</div>"
      ],
      "text/plain": [
       "              size          price\n",
       "count    46.000000      46.000000\n",
       "mean   1998.434783  339119.456522\n",
       "std     803.333019  126103.418369\n",
       "min     852.000000  169900.000000\n",
       "25%    1429.500000  249900.000000\n",
       "50%    1870.000000  299900.000000\n",
       "75%    2284.500000  368875.000000\n",
       "max    4478.000000  699900.000000"
      ]
     },
     "execution_count": 3,
     "metadata": {},
     "output_type": "execute_result"
    }
   ],
   "source": [
    "data.describe()"
   ]
  },
  {
   "cell_type": "code",
   "execution_count": 4,
   "metadata": {
    "colab": {
     "base_uri": "https://localhost:8080/",
     "height": 354
    },
    "colab_type": "code",
    "executionInfo": {
     "elapsed": 1349,
     "status": "ok",
     "timestamp": 1565185879941,
     "user": {
      "displayName": "Ranjith M.S",
      "photoUrl": "",
      "userId": "03619660690537035466"
     },
     "user_tz": -330
    },
    "id": "fTJ1fKOTebY8",
    "outputId": "96948cfb-27b9-478e-8a81-6690d3b4416c"
   },
   "outputs": [
    {
     "data": {
      "text/plain": [
       "<matplotlib.axes._subplots.AxesSubplot at 0x2231eaec8d0>"
      ]
     },
     "execution_count": 4,
     "metadata": {},
     "output_type": "execute_result"
    },
    {
     "data": {
      "image/png": "[encoded data removed]",
      "text/plain": [
       "<Figure size 720x360 with 1 Axes>"
      ]
     },
     "metadata": {
      "needs_background": "light"
     },
     "output_type": "display_data"
    }
   ],
   "source": [
    "data.plot(kind='scatter', x='size', y='price', figsize=(10,5))"
   ]
  },
  {
   "cell_type": "markdown",
   "metadata": {
    "colab_type": "text",
    "id": "H55WHAPzb1dA"
   },
   "source": [
    "# Feature scaling\n",
    "We can speed up gradient descent by having each of our input values in roughly the same range. This is because θ will descend quickly on small ranges and slowly on large ranges, and so will oscillate inefficiently down to the optimum when the variables are very uneven.\n",
    ">\n",
    "The way to prevent this is to modify the ranges of our input variables so that they are all roughly the same. Ideally:\n",
    ">\n",
    "      −1 ≤ x≤ 1\n",
    "\n",
    "> \n",
    "\n",
    "\n",
    "These aren’t exact requirements; we are only trying to speed things up. The goal is to get all input variables into roughly one of these ranges, give or take a few.\n",
    "> \n",
    "Two techniques to help with this are **feature scaling and mean normalization**. Feature scaling involves dividing the input values by the range (i.e. the maximum value minus the minimum value) of the input variable, resulting in a new range of just 1. Mean normalization involves subtracting the average value for an input variable from the values for that input variable resulting in a new average value for the input variable of just zero. To implement both of these techniques, adjust your input values as shown in this formula:\n",
    "                                                  \n",
    "![alt text](https://miro.medium.com/max/143/1*WHNo6emX78_Ff9s7ahh2Eg.png)\n"
   ]
  },
  {
   "cell_type": "code",
   "execution_count": 5,
   "metadata": {
    "colab": {},
    "colab_type": "code",
    "id": "tkRBM3lEpI5I"
   },
   "outputs": [],
   "source": [
    "data = (data - np.mean(data))/np.std(data)"
   ]
  },
  {
   "cell_type": "code",
   "execution_count": 6,
   "metadata": {
    "colab": {
     "base_uri": "https://localhost:8080/",
     "height": 297
    },
    "colab_type": "code",
    "executionInfo": {
     "elapsed": 910,
     "status": "ok",
     "timestamp": 1565185883415,
     "user": {
      "displayName": "Ranjith M.S",
      "photoUrl": "",
      "userId": "03619660690537035466"
     },
     "user_tz": -330
    },
    "id": "5nQ_B25Dpe4c",
    "outputId": "8f664194-823b-4b5d-ca94-8088ccc2570c"
   },
   "outputs": [
    {
     "data": {
      "text/html": [
       "<div>\n",
       "<style scoped>\n",
       "    .dataframe tbody tr th:only-of-type {\n",
       "        vertical-align: middle;\n",
       "    }\n",
       "\n",
       "    .dataframe tbody tr th {\n",
       "        vertical-align: top;\n",
       "    }\n",
       "\n",
       "    .dataframe thead th {\n",
       "        text-align: right;\n",
       "    }\n",
       "</style>\n",
       "<table border=\"1\" class=\"dataframe\">\n",
       "  <thead>\n",
       "    <tr style=\"text-align: right;\">\n",
       "      <th></th>\n",
       "      <th>size</th>\n",
       "      <th>price</th>\n",
       "    </tr>\n",
       "  </thead>\n",
       "  <tbody>\n",
       "    <tr>\n",
       "      <th>count</th>\n",
       "      <td>4.600000e+01</td>\n",
       "      <td>4.600000e+01</td>\n",
       "    </tr>\n",
       "    <tr>\n",
       "      <th>mean</th>\n",
       "      <td>-1.399846e-16</td>\n",
       "      <td>-6.516526e-17</td>\n",
       "    </tr>\n",
       "    <tr>\n",
       "      <th>std</th>\n",
       "      <td>1.011050e+00</td>\n",
       "      <td>1.011050e+00</td>\n",
       "    </tr>\n",
       "    <tr>\n",
       "      <th>min</th>\n",
       "      <td>-1.442867e+00</td>\n",
       "      <td>-1.356738e+00</td>\n",
       "    </tr>\n",
       "    <tr>\n",
       "      <th>25%</th>\n",
       "      <td>-7.160437e-01</td>\n",
       "      <td>-7.153282e-01</td>\n",
       "    </tr>\n",
       "    <tr>\n",
       "      <th>50%</th>\n",
       "      <td>-1.616440e-01</td>\n",
       "      <td>-3.144469e-01</td>\n",
       "    </tr>\n",
       "    <tr>\n",
       "      <th>75%</th>\n",
       "      <td>3.600328e-01</td>\n",
       "      <td>2.385688e-01</td>\n",
       "    </tr>\n",
       "    <tr>\n",
       "      <th>max</th>\n",
       "      <td>3.120704e+00</td>\n",
       "      <td>2.892604e+00</td>\n",
       "    </tr>\n",
       "  </tbody>\n",
       "</table>\n",
       "</div>"
      ],
      "text/plain": [
       "               size         price\n",
       "count  4.600000e+01  4.600000e+01\n",
       "mean  -1.399846e-16 -6.516526e-17\n",
       "std    1.011050e+00  1.011050e+00\n",
       "min   -1.442867e+00 -1.356738e+00\n",
       "25%   -7.160437e-01 -7.153282e-01\n",
       "50%   -1.616440e-01 -3.144469e-01\n",
       "75%    3.600328e-01  2.385688e-01\n",
       "max    3.120704e+00  2.892604e+00"
      ]
     },
     "execution_count": 6,
     "metadata": {},
     "output_type": "execute_result"
    }
   ],
   "source": [
    "data.describe()"
   ]
  },
  {
   "cell_type": "code",
   "execution_count": 7,
   "metadata": {
    "colab": {
     "base_uri": "https://localhost:8080/",
     "height": 354
    },
    "colab_type": "code",
    "executionInfo": {
     "elapsed": 1407,
     "status": "ok",
     "timestamp": 1565185884788,
     "user": {
      "displayName": "Ranjith M.S",
      "photoUrl": "",
      "userId": "03619660690537035466"
     },
     "user_tz": -330
    },
    "id": "gNOewKvouh6z",
    "outputId": "eb400f20-9283-4307-d666-b3b04d59b7df"
   },
   "outputs": [
    {
     "data": {
      "text/plain": [
       "<matplotlib.axes._subplots.AxesSubplot at 0x2231fe3aa58>"
      ]
     },
     "execution_count": 7,
     "metadata": {},
     "output_type": "execute_result"
    },
    {
     "data": {
      "image/png": "[encoded data removed]",
      "text/plain": [
       "<Figure size 720x360 with 1 Axes>"
      ]
     },
     "metadata": {
      "needs_background": "light"
     },
     "output_type": "display_data"
    }
   ],
   "source": [
    "data.plot(kind='scatter', x='size', y='price', figsize=(10,5))"
   ]
  },
  {
   "cell_type": "code",
   "execution_count": 8,
   "metadata": {
    "colab": {},
    "colab_type": "code",
    "id": "f2v0TNyHxDH3"
   },
   "outputs": [],
   "source": [
    "#theta = np.matrix(np.array([0,0]))\n",
    "theta=np.random.randn(1,2)"
   ]
  },
  {
   "cell_type": "markdown",
   "metadata": {},
   "source": [
    "### Inserting a Column of ones\n",
    "since the theta(parameters) has 2 elements we can obtain hypothesis function simply by dot product between input\n",
    "and theta if we insert a column of ones so that theta[0] * 1 = theta[0] only [we use it inside computecost funtion only]\n",
    ".Hence the dot product will compute (theta[0] * 1 + theta[1]*data['x']) which is a required hypothesis function"
   ]
  },
  {
   "cell_type": "code",
   "execution_count": 9,
   "metadata": {
    "colab": {
     "base_uri": "https://localhost:8080/",
     "height": 204
    },
    "colab_type": "code",
    "executionInfo": {
     "elapsed": 1228,
     "status": "ok",
     "timestamp": 1565185888056,
     "user": {
      "displayName": "Ranjith M.S",
      "photoUrl": "",
      "userId": "03619660690537035466"
     },
     "user_tz": -330
    },
    "id": "q62NGU3X3GQI",
    "outputId": "94026a80-0614-48d7-f199-801d991f83d9"
   },
   "outputs": [
    {
     "data": {
      "text/html": [
       "<div>\n",
       "<style scoped>\n",
       "    .dataframe tbody tr th:only-of-type {\n",
       "        vertical-align: middle;\n",
       "    }\n",
       "\n",
       "    .dataframe tbody tr th {\n",
       "        vertical-align: top;\n",
       "    }\n",
       "\n",
       "    .dataframe thead th {\n",
       "        text-align: right;\n",
       "    }\n",
       "</style>\n",
       "<table border=\"1\" class=\"dataframe\">\n",
       "  <thead>\n",
       "    <tr style=\"text-align: right;\">\n",
       "      <th></th>\n",
       "      <th>Ones</th>\n",
       "      <th>size</th>\n",
       "      <th>price</th>\n",
       "    </tr>\n",
       "  </thead>\n",
       "  <tbody>\n",
       "    <tr>\n",
       "      <th>0</th>\n",
       "      <td>1</td>\n",
       "      <td>-0.501458</td>\n",
       "      <td>-0.073918</td>\n",
       "    </tr>\n",
       "    <tr>\n",
       "      <th>1</th>\n",
       "      <td>1</td>\n",
       "      <td>0.505398</td>\n",
       "      <td>0.239571</td>\n",
       "    </tr>\n",
       "    <tr>\n",
       "      <th>2</th>\n",
       "      <td>1</td>\n",
       "      <td>-0.733034</td>\n",
       "      <td>-0.858844</td>\n",
       "    </tr>\n",
       "    <tr>\n",
       "      <th>3</th>\n",
       "      <td>1</td>\n",
       "      <td>1.260539</td>\n",
       "      <td>1.609783</td>\n",
       "    </tr>\n",
       "    <tr>\n",
       "      <th>4</th>\n",
       "      <td>1</td>\n",
       "      <td>-0.016909</td>\n",
       "      <td>-0.314447</td>\n",
       "    </tr>\n",
       "  </tbody>\n",
       "</table>\n",
       "</div>"
      ],
      "text/plain": [
       "   Ones      size     price\n",
       "0     1 -0.501458 -0.073918\n",
       "1     1  0.505398  0.239571\n",
       "2     1 -0.733034 -0.858844\n",
       "3     1  1.260539  1.609783\n",
       "4     1 -0.016909 -0.314447"
      ]
     },
     "execution_count": 9,
     "metadata": {},
     "output_type": "execute_result"
    }
   ],
   "source": [
    "data.insert(0, 'Ones', 1)\n",
    "data.head()"
   ]
  },
  {
   "cell_type": "code",
   "execution_count": 10,
   "metadata": {
    "colab": {
     "base_uri": "https://localhost:8080/",
     "height": 204
    },
    "colab_type": "code",
    "executionInfo": {
     "elapsed": 1023,
     "status": "ok",
     "timestamp": 1565185889459,
     "user": {
      "displayName": "Ranjith M.S",
      "photoUrl": "",
      "userId": "03619660690537035466"
     },
     "user_tz": -330
    },
    "id": "Sm8J1ief3Yiv",
    "outputId": "7f83497c-f8e5-43c5-d93c-a4883e8d860e"
   },
   "outputs": [
    {
     "data": {
      "text/html": [
       "<div>\n",
       "<style scoped>\n",
       "    .dataframe tbody tr th:only-of-type {\n",
       "        vertical-align: middle;\n",
       "    }\n",
       "\n",
       "    .dataframe tbody tr th {\n",
       "        vertical-align: top;\n",
       "    }\n",
       "\n",
       "    .dataframe thead th {\n",
       "        text-align: right;\n",
       "    }\n",
       "</style>\n",
       "<table border=\"1\" class=\"dataframe\">\n",
       "  <thead>\n",
       "    <tr style=\"text-align: right;\">\n",
       "      <th></th>\n",
       "      <th>Ones</th>\n",
       "      <th>size</th>\n",
       "    </tr>\n",
       "  </thead>\n",
       "  <tbody>\n",
       "    <tr>\n",
       "      <th>0</th>\n",
       "      <td>1</td>\n",
       "      <td>-0.501458</td>\n",
       "    </tr>\n",
       "    <tr>\n",
       "      <th>1</th>\n",
       "      <td>1</td>\n",
       "      <td>0.505398</td>\n",
       "    </tr>\n",
       "    <tr>\n",
       "      <th>2</th>\n",
       "      <td>1</td>\n",
       "      <td>-0.733034</td>\n",
       "    </tr>\n",
       "    <tr>\n",
       "      <th>3</th>\n",
       "      <td>1</td>\n",
       "      <td>1.260539</td>\n",
       "    </tr>\n",
       "    <tr>\n",
       "      <th>4</th>\n",
       "      <td>1</td>\n",
       "      <td>-0.016909</td>\n",
       "    </tr>\n",
       "  </tbody>\n",
       "</table>\n",
       "</div>"
      ],
      "text/plain": [
       "   Ones      size\n",
       "0     1 -0.501458\n",
       "1     1  0.505398\n",
       "2     1 -0.733034\n",
       "3     1  1.260539\n",
       "4     1 -0.016909"
      ]
     },
     "execution_count": 10,
     "metadata": {},
     "output_type": "execute_result"
    }
   ],
   "source": [
    "X=data.iloc[:,0:2]\n",
    "X.head()"
   ]
  },
  {
   "cell_type": "code",
   "execution_count": 11,
   "metadata": {
    "colab": {
     "base_uri": "https://localhost:8080/",
     "height": 119
    },
    "colab_type": "code",
    "executionInfo": {
     "elapsed": 674,
     "status": "ok",
     "timestamp": 1565185890811,
     "user": {
      "displayName": "Ranjith M.S",
      "photoUrl": "",
      "userId": "03619660690537035466"
     },
     "user_tz": -330
    },
    "id": "sNMaOnlz3zuI",
    "outputId": "8bf6cb41-9641-4513-bda2-7710d0724412"
   },
   "outputs": [
    {
     "data": {
      "text/plain": [
       "(0   -0.073918\n",
       " 1    0.239571\n",
       " 2   -0.858844\n",
       " 3    1.609783\n",
       " 4   -0.314447\n",
       " Name: price, dtype: float64, (46,))"
      ]
     },
     "execution_count": 11,
     "metadata": {},
     "output_type": "execute_result"
    }
   ],
   "source": [
    "y=data['price']\n",
    "y.head(),y.shape"
   ]
  },
  {
   "cell_type": "code",
   "execution_count": 12,
   "metadata": {
    "colab": {},
    "colab_type": "code",
    "id": "9yCD4zV75a80"
   },
   "outputs": [],
   "source": [
    "x = np.matrix(X)\n",
    "y = np.matrix(y)\n",
    "y=y.T"
   ]
  },
  {
   "cell_type": "code",
   "execution_count": 13,
   "metadata": {
    "colab": {
     "base_uri": "https://localhost:8080/",
     "height": 34
    },
    "colab_type": "code",
    "executionInfo": {
     "elapsed": 744,
     "status": "ok",
     "timestamp": 1565185893472,
     "user": {
      "displayName": "Ranjith M.S",
      "photoUrl": "",
      "userId": "03619660690537035466"
     },
     "user_tz": -330
    },
    "id": "gk7y23hKKOmI",
    "outputId": "e318cb21-c29b-4781-f145-3a5b40e1bb0d"
   },
   "outputs": [
    {
     "data": {
      "text/plain": [
       "((46, 2), (1, 2), (46, 1))"
      ]
     },
     "execution_count": 13,
     "metadata": {},
     "output_type": "execute_result"
    }
   ],
   "source": [
    "x.shape, theta.shape, y.shape"
   ]
  },
  {
   "cell_type": "code",
   "execution_count": 14,
   "metadata": {
    "colab": {
     "base_uri": "https://localhost:8080/",
     "height": 34
    },
    "colab_type": "code",
    "executionInfo": {
     "elapsed": 797,
     "status": "ok",
     "timestamp": 1565185894798,
     "user": {
      "displayName": "Ranjith M.S",
      "photoUrl": "",
      "userId": "03619660690537035466"
     },
     "user_tz": -330
    },
    "id": "hwT-LZotMmiB",
    "outputId": "044afa98-4448-40af-b772-ef4b3de7a432"
   },
   "outputs": [
    {
     "data": {
      "text/plain": [
       "array([[1.16421358, 0.32950311]])"
      ]
     },
     "execution_count": 14,
     "metadata": {},
     "output_type": "execute_result"
    }
   ],
   "source": [
    "theta"
   ]
  },
  {
   "cell_type": "code",
   "execution_count": 15,
   "metadata": {
    "colab": {},
    "colab_type": "code",
    "id": "MRrKklxxvZLw"
   },
   "outputs": [],
   "source": [
    "def computeCost(x, y, theta):\n",
    "    \"\"\"\n",
    "    Compute cost for linear regression. Computes the cost of using theta as the\n",
    "    parameter for linear regression to fit the data points in X and y.\n",
    "    \n",
    "    Parameters\n",
    "    ----------\n",
    "    X : array_like\n",
    "        The input dataset of shape (m , n+1) <Here n is 1 and we added one more column of ones>, where m is the number of examples,\n",
    "        and n is the number of features. <Hence the dimension is (46,2)\n",
    "    \n",
    "    y : array_like\n",
    "        The values of the function at each data point. This is a vector of\n",
    "        shape (m, 1).\n",
    "    \n",
    "    theta : array_like\n",
    "        The parameters for the regression function. This is a vector of \n",
    "        shape (1,n+1 ).\n",
    "    \n",
    "    Returns\n",
    "    -------\n",
    "    J : float\n",
    "        The value of the regression cost function.\n",
    "    \n",
    "    Instructions\n",
    "    ------------\n",
    "    Compute the cost of a particular choice of theta. \n",
    "    You should set J to the cost.\n",
    "    \"\"\"\n",
    "    \n",
    "    # initialize some useful values\n",
    "    m =46  # number of training examples\n",
    "    \n",
    "    # You need to return the following variables correctly\n",
    "    J = 0\n",
    "   \n",
    "    h = np.matmul(x, theta.T)\n",
    "    \n",
    "    J = (1/(2 * m)) * np.sum(np.square(h - y))\n",
    "    \n",
    "   \n",
    "    return J"
   ]
  },
  {
   "cell_type": "code",
   "execution_count": 16,
   "metadata": {
    "colab": {
     "base_uri": "https://localhost:8080/",
     "height": 34
    },
    "colab_type": "code",
    "executionInfo": {
     "elapsed": 1126,
     "status": "ok",
     "timestamp": 1565185897779,
     "user": {
      "displayName": "Ranjith M.S",
      "photoUrl": "",
      "userId": "03619660690537035466"
     },
     "user_tz": -330
    },
    "id": "CyW3OMlxwrFW",
    "outputId": "bc22296a-ce7d-4b25-e441-bd29fc61be6c"
   },
   "outputs": [
    {
     "data": {
      "text/plain": [
       "0.9499517548655338"
      ]
     },
     "execution_count": 16,
     "metadata": {},
     "output_type": "execute_result"
    }
   ],
   "source": [
    "computeCost(x,y,theta)\n"
   ]
  },
  {
   "cell_type": "code",
   "execution_count": 17,
   "metadata": {
    "colab": {
     "base_uri": "https://localhost:8080/",
     "height": 731
    },
    "colab_type": "code",
    "executionInfo": {
     "elapsed": 725,
     "status": "ok",
     "timestamp": 1565185902107,
     "user": {
      "displayName": "Ranjith M.S",
      "photoUrl": "",
      "userId": "03619660690537035466"
     },
     "user_tz": -330
    },
    "id": "YpbB7L-DBxLp",
    "outputId": "b86cad65-b645-4014-aeaf-8dc7e1c37508"
   },
   "outputs": [
    {
     "name": "stdout",
     "output_type": "stream",
     "text": [
      "[[4.23319084e-12 8.55928253e-01]] [0.79486267 0.66924051 0.56748656 0.48506586 0.4183051  0.36422888\n",
      " 0.32042714 0.28494773 0.25620941 0.23293137 0.21407616 0.19880344\n",
      " 0.18643253 0.1764121  0.16829555 0.16172114 0.15639587 0.15208241\n",
      " 0.1485885  0.14575843 0.14346608 0.14160927 0.14010526 0.13888701\n",
      " 0.13790022 0.13710093 0.1364535  0.13592909 0.13550431 0.13516024\n",
      " 0.13488154 0.1346558  0.13447294 0.13432483 0.13420486 0.13410769\n",
      " 0.13402898 0.13396522 0.13391358 0.13387174 0.13383786 0.13381042\n",
      " 0.13378819 0.13377018 0.13375559 0.13374378 0.13373421 0.13372646\n",
      " 0.13372018 0.13371509 0.13371097 0.13370764 0.13370494 0.13370275\n",
      " 0.13370097 0.13369954 0.13369837 0.13369743 0.13369667 0.13369605\n",
      " 0.13369555 0.13369514 0.13369481 0.13369455 0.13369433 0.13369416\n",
      " 0.13369402 0.1336939  0.13369381 0.13369373 0.13369367 0.13369362\n",
      " 0.13369358 0.13369355 0.13369352 0.1336935  0.13369349 0.13369347\n",
      " 0.13369346 0.13369345 0.13369344 0.13369344 0.13369343 0.13369343\n",
      " 0.13369343 0.13369342 0.13369342 0.13369342 0.13369342 0.13369342\n",
      " 0.13369342 0.13369342 0.13369342 0.13369341 0.13369341 0.13369341\n",
      " 0.13369341 0.13369341 0.13369341 0.13369341 0.13369341 0.13369341\n",
      " 0.13369341 0.13369341 0.13369341 0.13369341 0.13369341 0.13369341\n",
      " 0.13369341 0.13369341 0.13369341 0.13369341 0.13369341 0.13369341\n",
      " 0.13369341 0.13369341 0.13369341 0.13369341 0.13369341 0.13369341\n",
      " 0.13369341 0.13369341 0.13369341 0.13369341 0.13369341 0.13369341\n",
      " 0.13369341 0.13369341 0.13369341 0.13369341 0.13369341 0.13369341\n",
      " 0.13369341 0.13369341 0.13369341 0.13369341 0.13369341 0.13369341\n",
      " 0.13369341 0.13369341 0.13369341 0.13369341 0.13369341 0.13369341\n",
      " 0.13369341 0.13369341 0.13369341 0.13369341 0.13369341 0.13369341\n",
      " 0.13369341 0.13369341 0.13369341 0.13369341 0.13369341 0.13369341\n",
      " 0.13369341 0.13369341 0.13369341 0.13369341 0.13369341 0.13369341\n",
      " 0.13369341 0.13369341 0.13369341 0.13369341 0.13369341 0.13369341\n",
      " 0.13369341 0.13369341 0.13369341 0.13369341 0.13369341 0.13369341\n",
      " 0.13369341 0.13369341 0.13369341 0.13369341 0.13369341 0.13369341\n",
      " 0.13369341 0.13369341 0.13369341 0.13369341 0.13369341 0.13369341\n",
      " 0.13369341 0.13369341 0.13369341 0.13369341 0.13369341 0.13369341\n",
      " 0.13369341 0.13369341 0.13369341 0.13369341 0.13369341 0.13369341\n",
      " 0.13369341 0.13369341 0.13369341 0.13369341 0.13369341 0.13369341\n",
      " 0.13369341 0.13369341 0.13369341 0.13369341 0.13369341 0.13369341\n",
      " 0.13369341 0.13369341 0.13369341 0.13369341 0.13369341 0.13369341\n",
      " 0.13369341 0.13369341 0.13369341 0.13369341 0.13369341 0.13369341\n",
      " 0.13369341 0.13369341 0.13369341 0.13369341 0.13369341 0.13369341\n",
      " 0.13369341 0.13369341 0.13369341 0.13369341 0.13369341 0.13369341\n",
      " 0.13369341 0.13369341 0.13369341 0.13369341 0.13369341 0.13369341\n",
      " 0.13369341 0.13369341 0.13369341 0.13369341 0.13369341 0.13369341\n",
      " 0.13369341 0.13369341 0.13369341 0.13369341]\n"
     ]
    }
   ],
   "source": [
    "num_iters=250\n",
    "new_theta, cost = gradientDescent(x, y, theta,num_iters, lr=0.1)\n",
    "print(new_theta, cost)"
   ]
  },
  {
   "cell_type": "code",
   "execution_count": 18,
   "metadata": {
    "colab": {},
    "colab_type": "code",
    "id": "dOwOi4OhDza6"
   },
   "outputs": [],
   "source": [
    "Model_price = new_theta[0, 0] + (new_theta[0, 1] * x) "
   ]
  },
  {
   "cell_type": "code",
   "execution_count": 19,
   "metadata": {
    "colab": {
     "base_uri": "https://localhost:8080/",
     "height": 367
    },
    "colab_type": "code",
    "executionInfo": {
     "elapsed": 1860,
     "status": "ok",
     "timestamp": 1565185906319,
     "user": {
      "displayName": "Ranjith M.S",
      "photoUrl": "",
      "userId": "03619660690537035466"
     },
     "user_tz": -330
    },
    "id": "74U9V3pUD3C-",
    "outputId": "33d2eb93-b016-4f43-d198-97ed0ac4126d"
   },
   "outputs": [
    {
     "data": {
      "text/plain": [
       "Text(0.5, 1.0, 'Predicted Price vs. Size')"
      ]
     },
     "execution_count": 19,
     "metadata": {},
     "output_type": "execute_result"
    },
    {
     "data": {
      "image/png": "[encoded data removed]",
      "text/plain": [
       "<Figure size 720x360 with 1 Axes>"
      ]
     },
     "metadata": {
      "needs_background": "light"
     },
     "output_type": "display_data"
    }
   ],
   "source": [
    "\n",
    "fig, ax = plt.subplots(figsize=(10,5))\n",
    "ax.plot(x, Model_price, 'r', label='Prediction')\n",
    "ax.scatter(data['size'],data.price, label='Training Data')\n",
    "ax.legend(loc=2)\n",
    "ax.set_xlabel('Size')\n",
    "ax.set_ylabel('Price')\n",
    "ax.set_title('Predicted Price vs. Size')"
   ]
  },
  {
   "cell_type": "code",
   "execution_count": 20,
   "metadata": {
    "colab": {
     "base_uri": "https://localhost:8080/",
     "height": 530
    },
    "colab_type": "code",
    "executionInfo": {
     "elapsed": 1346,
     "status": "ok",
     "timestamp": 1565185914066,
     "user": {
      "displayName": "Ranjith M.S",
      "photoUrl": "",
      "userId": "03619660690537035466"
     },
     "user_tz": -330
    },
    "id": "2-Ibu83vJQNO",
    "outputId": "1770c9d1-1799-407d-e83a-712f0625316a"
   },
   "outputs": [
    {
     "data": {
      "text/plain": [
       "Text(0.5, 1.0, 'MSE vs. Iterations')"
      ]
     },
     "execution_count": 20,
     "metadata": {},
     "output_type": "execute_result"
    },
    {
     "data": {
      "image/png": "[encoded data removed]",
      "text/plain": [
       "<Figure size 864x576 with 1 Axes>"
      ]
     },
     "metadata": {
      "needs_background": "light"
     },
     "output_type": "display_data"
    }
   ],
   "source": [
    "fig, ax = plt.subplots(figsize=(12,8))\n",
    "ax.plot(np.arange(num_iters), cost, 'r')\n",
    "ax.set_xlabel('Iterations')\n",
    "ax.set_ylabel('Cost')\n",
    "ax.set_title('MSE vs. Iterations')"
   ]
  },
  {
   "cell_type": "markdown",
   "metadata": {
    "colab_type": "text",
    "id": "dq2cSVpdmHIq"
   },
   "source": [
    "## Problem  of Overshooting"
   ]
  },
  {
   "cell_type": "code",
   "execution_count": 21,
   "metadata": {
    "colab": {
     "base_uri": "https://localhost:8080/",
     "height": 1000
    },
    "colab_type": "code",
    "executionInfo": {
     "elapsed": 954,
     "status": "ok",
     "timestamp": 1565185918851,
     "user": {
      "displayName": "Ranjith M.S",
      "photoUrl": "",
      "userId": "03619660690537035466"
     },
     "user_tz": -330
    },
    "id": "lMKKxy0fp9PA",
    "outputId": "c07a0401-7f4c-4113-c9c5-0dfa0d478be2"
   },
   "outputs": [
    {
     "name": "stdout",
     "output_type": "stream",
     "text": [
      "[[ 2.59539790e+10 -1.17356707e+10]] [1.12136601e+00 1.32877725e+00 1.57974486e+00 1.88341566e+00\n",
      " 2.25085733e+00 2.69546176e+00 3.23343311e+00 3.88437844e+00\n",
      " 4.67202230e+00 5.62507137e+00 6.77826074e+00 8.17361988e+00\n",
      " 9.86200443e+00 1.19049497e+01 1.43769136e+01 1.73679898e+01\n",
      " 2.09871921e+01 2.53664268e+01 3.06653008e+01 3.70769383e+01\n",
      " 4.48350198e+01 5.42222983e+01 6.55809053e+01 7.93248198e+01\n",
      " 9.59549563e+01 1.16077422e+02 1.40425604e+02 1.69886906e+02\n",
      " 2.05535080e+02 2.48669372e+02 3.00861864e+02 3.64014780e+02\n",
      " 4.40429808e+02 5.32891992e+02 6.44771235e+02 7.80145119e+02\n",
      " 9.43947518e+02 1.14214842e+03 1.38197151e+03 1.67215746e+03\n",
      " 2.02328245e+03 2.44814368e+03 2.96222578e+03 3.58426512e+03\n",
      " 4.33693272e+03 5.24766052e+03 6.34964115e+03 7.68303772e+03\n",
      " 9.29644756e+03 1.12486735e+04 1.36108668e+04 1.64691208e+04\n",
      " 1.99276081e+04 2.41123777e+04 2.91759489e+04 3.53028701e+04\n",
      " 4.27164448e+04 5.16868701e+04 6.25410848e+04 7.56746845e+04\n",
      " 9.15663402e+04 1.10795244e+05 1.34062217e+05 1.62215254e+05\n",
      " 1.96280429e+05 2.37499291e+05 2.87374114e+05 3.47722650e+05\n",
      " 4.20744379e+05 5.09100670e+05 6.16011783e+05 7.45374229e+05\n",
      " 9.01902790e+05 1.09130235e+06 1.32047581e+06 1.59777570e+06\n",
      " 1.93330857e+06 2.33930335e+06 2.83055702e+06 3.42497397e+06\n",
      " 4.14421847e+06 5.01450432e+06 6.06755021e+06 7.34173572e+06\n",
      " 8.88350019e+06 1.07490352e+07 1.30063326e+07 1.57376624e+07\n",
      " 1.90425715e+07 2.30415114e+07 2.78802288e+07 3.37350768e+07\n",
      " 4.08194429e+07 4.93915259e+07 5.97637463e+07 7.23141330e+07\n",
      " 8.75001009e+07 1.05875122e+08 1.28108898e+08 1.55011766e+08\n",
      " 1.87564237e+08 2.26952727e+08 2.74612799e+08 3.32281487e+08\n",
      " 4.02060600e+08 4.86493326e+08 5.88656924e+08 7.12274878e+08\n",
      " 8.61852602e+08 1.04284165e+09 1.26183839e+09 1.52682446e+09\n",
      " 1.84745759e+09 2.23542369e+09 2.70486266e+09 3.27288382e+09\n",
      " 3.96018943e+09 4.79182920e+09 5.79811334e+09 7.01571714e+09\n",
      " 8.48901774e+09 1.02717115e+10 1.24287709e+10 1.50388128e+10\n",
      " 1.81969634e+10 2.20183257e+10 2.66421742e+10 3.22370307e+10\n",
      " 3.90068072e+10 4.71982367e+10 5.71098664e+10 6.91029383e+10\n",
      " 8.36145554e+10 1.01173612e+11 1.22420071e+11 1.48128285e+11\n",
      " 1.79235225e+11 2.16874623e+11 2.62418293e+11 3.17526135e+11\n",
      " 3.84206623e+11 4.64890014e+11 5.62516917e+11 6.80645470e+11\n",
      " 8.23581018e+11 9.96533032e+11 1.20580497e+12 1.45902401e+12\n",
      " 1.76541906e+12 2.13615706e+12 2.58475004e+12 3.12754755e+12\n",
      " 3.78433253e+12 4.57904236e+12 5.54064126e+12 6.70417592e+12\n",
      " 8.11205287e+12 9.81558397e+12 1.18768566e+13 1.43709965e+13\n",
      " 1.73889058e+13 2.10405760e+13 2.54590969e+13 3.08055073e+13\n",
      " 3.72746638e+13 4.51023432e+13 5.45738353e+13 6.60343407e+13\n",
      " 7.99015522e+13 9.66808782e+13 1.16983863e+14 1.41550474e+14\n",
      " 1.71276073e+14 2.07244049e+14 2.50765299e+14 3.03426012e+14\n",
      " 3.67145474e+14 4.44246023e+14 5.37537688e+14 6.50420603e+14\n",
      " 7.87008930e+14 9.52280805e+14 1.15225977e+15 1.39423433e+15\n",
      " 1.68702353e+15 2.04129848e+15 2.46997116e+15 2.98866510e+15\n",
      " 3.61628477e+15 4.37570457e+15 5.29460253e+15 6.40646907e+15\n",
      " 7.75182757e+15 9.37971136e+15 1.13494507e+16 1.37328354e+16\n",
      " 1.66167308e+16 2.01062443e+16 2.43285556e+16 2.94375523e+16\n",
      " 3.56194383e+16 4.30995203e+16 5.21504196e+16 6.31020077e+16\n",
      " 7.63534293e+16 9.23876495e+16 1.11789056e+17 1.35264758e+17\n",
      " 1.63670357e+17 1.98041132e+17 2.39629769e+17 2.89952021e+17\n",
      " 3.50841945e+17 4.24518754e+17 5.13667692e+17 6.21537907e+17\n",
      " 7.52060868e+17 9.09993650e+17 1.10109232e+18 1.33232170e+18\n",
      " 1.61210926e+18 1.95065220e+18 2.36028917e+18 2.85594989e+18\n",
      " 3.45569937e+18 4.18139624e+18 5.05948945e+18 6.12198223e+18\n",
      " 7.40759850e+18 8.96319419e+18 1.08454650e+19 1.31230126e+19\n",
      " 1.58788453e+19 1.92134028e+19 2.32482173e+19 2.81303430e+19\n",
      " 3.40377150e+19 4.11856352e+19 4.98346185e+19 6.02998884e+19\n",
      " 7.29628650e+19 8.82850667e+19 1.06824931e+20 1.29258166e+20\n",
      " 1.56402381e+20 1.89246881e+20 2.28988726e+20 2.77076358e+20\n",
      " 3.35262394e+20 4.05667496e+20]\n"
     ]
    }
   ],
   "source": [
    "num_iters=250\n",
    "new_theta, cost = gradientDescent(x, y, theta,num_iters, lr=2.1)\n",
    "print(new_theta, cost)"
   ]
  },
  {
   "cell_type": "code",
   "execution_count": 22,
   "metadata": {
    "colab": {
     "base_uri": "https://localhost:8080/",
     "height": 530
    },
    "colab_type": "code",
    "executionInfo": {
     "elapsed": 1234,
     "status": "ok",
     "timestamp": 1565185920666,
     "user": {
      "displayName": "Ranjith M.S",
      "photoUrl": "",
      "userId": "03619660690537035466"
     },
     "user_tz": -330
    },
    "id": "5dXxsY_VjOiQ",
    "outputId": "abbb00ad-9b05-497f-af1e-f7118cd84a0a"
   },
   "outputs": [
    {
     "data": {
      "text/plain": [
       "Text(0.5, 1.0, 'MSE vs. Iterations')"
      ]
     },
     "execution_count": 22,
     "metadata": {},
     "output_type": "execute_result"
    },
    {
     "data": {
      "image/png": "[encoded data removed]",
      "text/plain": [
       "<Figure size 864x576 with 1 Axes>"
      ]
     },
     "metadata": {
      "needs_background": "light"
     },
     "output_type": "display_data"
    }
   ],
   "source": [
    "fig, ax = plt.subplots(figsize=(12,8))\n",
    "ax.plot(np.arange(num_iters), cost, 'r')\n",
    "ax.set_xlabel('Iterations')\n",
    "ax.set_ylabel('Cost')\n",
    "ax.set_title('MSE vs. Iterations')"
   ]
  },
  {
   "cell_type": "code",
   "execution_count": 23,
   "metadata": {
    "colab": {
     "base_uri": "https://localhost:8080/",
     "height": 51
    },
    "colab_type": "code",
    "executionInfo": {
     "elapsed": 736,
     "status": "ok",
     "timestamp": 1565185922283,
     "user": {
      "displayName": "Ranjith M.S",
      "photoUrl": "",
      "userId": "03619660690537035466"
     },
     "user_tz": -330
    },
    "id": "PQpOeIcpjejI",
    "outputId": "8f68ecfb-ec71-48f0-e892-c6c3bae8d620"
   },
   "outputs": [
    {
     "data": {
      "text/plain": [
       "(array([[1.16421358, 0.32950311]]),\n",
       " matrix([[ 2.59539790e+10, -1.17356707e+10]]))"
      ]
     },
     "execution_count": 23,
     "metadata": {},
     "output_type": "execute_result"
    }
   ],
   "source": [
    "theta,new_theta"
   ]
  },
  {
   "cell_type": "code",
   "execution_count": 0,
   "metadata": {
    "colab": {},
    "colab_type": "code",
    "id": "BpsnmHMUnH4J"
   },
   "outputs": [],
   "source": []
  }
 ],
 "metadata": {
  "colab": {
   "collapsed_sections": [],
   "name": "Housing_price.ipynb",
   "provenance": [],
   "version": "0.3.2"
  },
  "kernelspec": {
   "display_name": "Python 3",
   "language": "python",
   "name": "python3"
  },
  "language_info": {
   "codemirror_mode": {
    "name": "ipython",
    "version": 3
   },
   "file_extension": ".py",
   "mimetype": "text/x-python",
   "name": "python",
   "nbconvert_exporter": "python",
   "pygments_lexer": "ipython3",
   "version": "3.7.3"
  }
 },
 "nbformat": 4,
 "nbformat_minor": 1
}
