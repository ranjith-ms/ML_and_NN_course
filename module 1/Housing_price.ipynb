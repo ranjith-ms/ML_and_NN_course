{
 "cells": [
  {
   "cell_type": "code",
   "execution_count": 1,
   "metadata": {
    "colab": {
     "base_uri": "https://localhost:8080/",
     "height": 122
    },
    "colab_type": "code",
    "executionInfo": {
     "elapsed": 39968,
     "status": "ok",
     "timestamp": 1565185866412,
     "user": {
      "displayName": "Ranjith M.S",
      "photoUrl": "",
      "userId": "03619660690537035466"
     },
     "user_tz": -330
    },
    "id": "RHFdDxoKofyd",
    "outputId": "325abe5c-7a47-43c4-8166-4a1c626684fc"
   },
   "outputs": [
    {
     "name": "stdout",
     "output_type": "stream",
     "text": [
      "Go to this URL in a browser: https://accounts.google.com/o/oauth2/auth?client_id=947318989803-6bn6qk8qdgf4n4g3pfee6491hc0brc4i.apps.googleusercontent.com&redirect_uri=urn%3Aietf%3Awg%3Aoauth%3A2.0%3Aoob&scope=email%20https%3A%2F%2Fwww.googleapis.com%2Fauth%2Fdocs.test%20https%3A%2F%2Fwww.googleapis.com%2Fauth%2Fdrive%20https%3A%2F%2Fwww.googleapis.com%2Fauth%2Fdrive.photos.readonly%20https%3A%2F%2Fwww.googleapis.com%2Fauth%2Fpeopleapi.readonly&response_type=code\n",
      "\n",
      "Enter your authorization code:\n",
      "··········\n",
      "Mounted at /content/drive\n"
     ]
    }
   ],
   "source": [
    "from google.colab import drive\n",
    "drive.mount('/content/drive')"
   ]
  },
  {
   "cell_type": "code",
   "execution_count": 2,
   "metadata": {
    "colab": {
     "base_uri": "https://localhost:8080/",
     "height": 34
    },
    "colab_type": "code",
    "executionInfo": {
     "elapsed": 3385,
     "status": "ok",
     "timestamp": 1565185871135,
     "user": {
      "displayName": "Ranjith M.S",
      "photoUrl": "",
      "userId": "03619660690537035466"
     },
     "user_tz": -330
    },
    "id": "W3svbP7Honup",
    "outputId": "f69355e7-c106-471e-bb3a-169ebebd7b30"
   },
   "outputs": [
    {
     "name": "stdout",
     "output_type": "stream",
     "text": [
      "/content/drive/My Drive/Colab Notebooks/ML workshop/Housing_price\n"
     ]
    }
   ],
   "source": [
    "import os\n",
    "os.chdir('drive/My Drive/Colab Notebooks/ML_and_NN_course/module 1')\n",
    "cwd=os.getcwd()\n",
    "print(cwd)"
   ]
  },
  {
   "cell_type": "code",
   "execution_count": 1,
   "metadata": {
    "colab": {},
    "colab_type": "code",
    "id": "cazB7H1HpFGT"
   },
   "outputs": [],
   "source": [
    "import numpy as np\n",
    "import pandas as pd\n",
    "import matplotlib.pyplot as plt\n",
    "from utils import *"
   ]
  },
  {
   "cell_type": "code",
   "execution_count": 4,
   "metadata": {
    "colab": {
     "base_uri": "https://localhost:8080/",
     "height": 204
    },
    "colab_type": "code",
    "executionInfo": {
     "elapsed": 1107,
     "status": "ok",
     "timestamp": 1565185876362,
     "user": {
      "displayName": "Ranjith M.S",
      "photoUrl": "",
      "userId": "03619660690537035466"
     },
     "user_tz": -330
    },
    "id": "YFw8y5wgYWkd",
    "outputId": "04147752-f2ec-48f3-e2ab-33718e0091e7"
   },
   "outputs": [
    {
     "data": {
      "text/html": [
       "<div>\n",
       "<style scoped>\n",
       "    .dataframe tbody tr th:only-of-type {\n",
       "        vertical-align: middle;\n",
       "    }\n",
       "\n",
       "    .dataframe tbody tr th {\n",
       "        vertical-align: top;\n",
       "    }\n",
       "\n",
       "    .dataframe thead th {\n",
       "        text-align: right;\n",
       "    }\n",
       "</style>\n",
       "<table border=\"1\" class=\"dataframe\">\n",
       "  <thead>\n",
       "    <tr style=\"text-align: right;\">\n",
       "      <th></th>\n",
       "      <th>size</th>\n",
       "      <th>price</th>\n",
       "    </tr>\n",
       "  </thead>\n",
       "  <tbody>\n",
       "    <tr>\n",
       "      <th>0</th>\n",
       "      <td>1600</td>\n",
       "      <td>329900</td>\n",
       "    </tr>\n",
       "    <tr>\n",
       "      <th>1</th>\n",
       "      <td>2400</td>\n",
       "      <td>369000</td>\n",
       "    </tr>\n",
       "    <tr>\n",
       "      <th>2</th>\n",
       "      <td>1416</td>\n",
       "      <td>232000</td>\n",
       "    </tr>\n",
       "    <tr>\n",
       "      <th>3</th>\n",
       "      <td>3000</td>\n",
       "      <td>539900</td>\n",
       "    </tr>\n",
       "    <tr>\n",
       "      <th>4</th>\n",
       "      <td>1985</td>\n",
       "      <td>299900</td>\n",
       "    </tr>\n",
       "  </tbody>\n",
       "</table>\n",
       "</div>"
      ],
      "text/plain": [
       "   size   price\n",
       "0  1600  329900\n",
       "1  2400  369000\n",
       "2  1416  232000\n",
       "3  3000  539900\n",
       "4  1985  299900"
      ]
     },
     "execution_count": 4,
     "metadata": {
      "tags": []
     },
     "output_type": "execute_result"
    }
   ],
   "source": [
    "data = pd.read_csv('train_data.csv', sep = ',')\n",
    "data.head()"
   ]
  },
  {
   "cell_type": "code",
   "execution_count": 5,
   "metadata": {
    "colab": {
     "base_uri": "https://localhost:8080/",
     "height": 297
    },
    "colab_type": "code",
    "executionInfo": {
     "elapsed": 968,
     "status": "ok",
     "timestamp": 1565185877930,
     "user": {
      "displayName": "Ranjith M.S",
      "photoUrl": "",
      "userId": "03619660690537035466"
     },
     "user_tz": -330
    },
    "id": "yl-DN1hTcpAb",
    "outputId": "82428893-3dc3-436c-87b1-9613d978bc66"
   },
   "outputs": [
    {
     "data": {
      "text/html": [
       "<div>\n",
       "<style scoped>\n",
       "    .dataframe tbody tr th:only-of-type {\n",
       "        vertical-align: middle;\n",
       "    }\n",
       "\n",
       "    .dataframe tbody tr th {\n",
       "        vertical-align: top;\n",
       "    }\n",
       "\n",
       "    .dataframe thead th {\n",
       "        text-align: right;\n",
       "    }\n",
       "</style>\n",
       "<table border=\"1\" class=\"dataframe\">\n",
       "  <thead>\n",
       "    <tr style=\"text-align: right;\">\n",
       "      <th></th>\n",
       "      <th>size</th>\n",
       "      <th>price</th>\n",
       "    </tr>\n",
       "  </thead>\n",
       "  <tbody>\n",
       "    <tr>\n",
       "      <th>count</th>\n",
       "      <td>46.000000</td>\n",
       "      <td>46.000000</td>\n",
       "    </tr>\n",
       "    <tr>\n",
       "      <th>mean</th>\n",
       "      <td>1998.434783</td>\n",
       "      <td>339119.456522</td>\n",
       "    </tr>\n",
       "    <tr>\n",
       "      <th>std</th>\n",
       "      <td>803.333019</td>\n",
       "      <td>126103.418369</td>\n",
       "    </tr>\n",
       "    <tr>\n",
       "      <th>min</th>\n",
       "      <td>852.000000</td>\n",
       "      <td>169900.000000</td>\n",
       "    </tr>\n",
       "    <tr>\n",
       "      <th>25%</th>\n",
       "      <td>1429.500000</td>\n",
       "      <td>249900.000000</td>\n",
       "    </tr>\n",
       "    <tr>\n",
       "      <th>50%</th>\n",
       "      <td>1870.000000</td>\n",
       "      <td>299900.000000</td>\n",
       "    </tr>\n",
       "    <tr>\n",
       "      <th>75%</th>\n",
       "      <td>2284.500000</td>\n",
       "      <td>368875.000000</td>\n",
       "    </tr>\n",
       "    <tr>\n",
       "      <th>max</th>\n",
       "      <td>4478.000000</td>\n",
       "      <td>699900.000000</td>\n",
       "    </tr>\n",
       "  </tbody>\n",
       "</table>\n",
       "</div>"
      ],
      "text/plain": [
       "              size          price\n",
       "count    46.000000      46.000000\n",
       "mean   1998.434783  339119.456522\n",
       "std     803.333019  126103.418369\n",
       "min     852.000000  169900.000000\n",
       "25%    1429.500000  249900.000000\n",
       "50%    1870.000000  299900.000000\n",
       "75%    2284.500000  368875.000000\n",
       "max    4478.000000  699900.000000"
      ]
     },
     "execution_count": 5,
     "metadata": {
      "tags": []
     },
     "output_type": "execute_result"
    }
   ],
   "source": [
    "data.describe()"
   ]
  },
  {
   "cell_type": "code",
   "execution_count": 6,
   "metadata": {
    "colab": {
     "base_uri": "https://localhost:8080/",
     "height": 354
    },
    "colab_type": "code",
    "executionInfo": {
     "elapsed": 1349,
     "status": "ok",
     "timestamp": 1565185879941,
     "user": {
      "displayName": "Ranjith M.S",
      "photoUrl": "",
      "userId": "03619660690537035466"
     },
     "user_tz": -330
    },
    "id": "fTJ1fKOTebY8",
    "outputId": "96948cfb-27b9-478e-8a81-6690d3b4416c"
   },
   "outputs": [
    {
     "data": {
      "text/plain": [
       "<matplotlib.axes._subplots.AxesSubplot at 0x7f64ee7c7e10>"
      ]
     },
     "execution_count": 6,
     "metadata": {
      "tags": []
     },
     "output_type": "execute_result"
    },
    {
     "data": {
      "image/png": "[encoded data removed]",
      "text/plain": [
       "<Figure size 720x360 with 1 Axes>"
      ]
     },
     "metadata": {
      "tags": []
     },
     "output_type": "display_data"
    }
   ],
   "source": [
    "data.plot(kind='scatter', x='size', y='price', figsize=(10,5))"
   ]
  },
  {
   "cell_type": "markdown",
   "metadata": {
    "colab_type": "text",
    "id": "H55WHAPzb1dA"
   },
   "source": [
    "#Feature scaling\n",
    "We can speed up gradient descent by having each of our input values in roughly the same range. This is because θ will descend quickly on small ranges and slowly on large ranges, and so will oscillate inefficiently down to the optimum when the variables are very uneven.\n",
    ">\n",
    "The way to prevent this is to modify the ranges of our input variables so that they are all roughly the same. Ideally:\n",
    ">\n",
    "      −1 ≤ x≤ 1\n",
    "\n",
    "> \n",
    "\n",
    "\n",
    "These aren’t exact requirements; we are only trying to speed things up. The goal is to get all input variables into roughly one of these ranges, give or take a few.\n",
    "> \n",
    "Two techniques to help with this are **feature scaling and mean normalization**. Feature scaling involves dividing the input values by the range (i.e. the maximum value minus the minimum value) of the input variable, resulting in a new range of just 1. Mean normalization involves subtracting the average value for an input variable from the values for that input variable resulting in a new average value for the input variable of just zero. To implement both of these techniques, adjust your input values as shown in this formula:\n",
    "                                                  \n",
    "![alt text](https://miro.medium.com/max/143/1*WHNo6emX78_Ff9s7ahh2Eg.png)\n"
   ]
  },
  {
   "cell_type": "code",
   "execution_count": 0,
   "metadata": {
    "colab": {},
    "colab_type": "code",
    "id": "tkRBM3lEpI5I"
   },
   "outputs": [],
   "source": [
    "data = (data - np.mean(data))/np.std(data)"
   ]
  },
  {
   "cell_type": "code",
   "execution_count": 8,
   "metadata": {
    "colab": {
     "base_uri": "https://localhost:8080/",
     "height": 297
    },
    "colab_type": "code",
    "executionInfo": {
     "elapsed": 910,
     "status": "ok",
     "timestamp": 1565185883415,
     "user": {
      "displayName": "Ranjith M.S",
      "photoUrl": "",
      "userId": "03619660690537035466"
     },
     "user_tz": -330
    },
    "id": "5nQ_B25Dpe4c",
    "outputId": "8f664194-823b-4b5d-ca94-8088ccc2570c"
   },
   "outputs": [
    {
     "data": {
      "text/html": [
       "<div>\n",
       "<style scoped>\n",
       "    .dataframe tbody tr th:only-of-type {\n",
       "        vertical-align: middle;\n",
       "    }\n",
       "\n",
       "    .dataframe tbody tr th {\n",
       "        vertical-align: top;\n",
       "    }\n",
       "\n",
       "    .dataframe thead th {\n",
       "        text-align: right;\n",
       "    }\n",
       "</style>\n",
       "<table border=\"1\" class=\"dataframe\">\n",
       "  <thead>\n",
       "    <tr style=\"text-align: right;\">\n",
       "      <th></th>\n",
       "      <th>size</th>\n",
       "      <th>price</th>\n",
       "    </tr>\n",
       "  </thead>\n",
       "  <tbody>\n",
       "    <tr>\n",
       "      <th>count</th>\n",
       "      <td>4.600000e+01</td>\n",
       "      <td>4.600000e+01</td>\n",
       "    </tr>\n",
       "    <tr>\n",
       "      <th>mean</th>\n",
       "      <td>-1.399846e-16</td>\n",
       "      <td>-6.516526e-17</td>\n",
       "    </tr>\n",
       "    <tr>\n",
       "      <th>std</th>\n",
       "      <td>1.011050e+00</td>\n",
       "      <td>1.011050e+00</td>\n",
       "    </tr>\n",
       "    <tr>\n",
       "      <th>min</th>\n",
       "      <td>-1.442867e+00</td>\n",
       "      <td>-1.356738e+00</td>\n",
       "    </tr>\n",
       "    <tr>\n",
       "      <th>25%</th>\n",
       "      <td>-7.160437e-01</td>\n",
       "      <td>-7.153282e-01</td>\n",
       "    </tr>\n",
       "    <tr>\n",
       "      <th>50%</th>\n",
       "      <td>-1.616440e-01</td>\n",
       "      <td>-3.144469e-01</td>\n",
       "    </tr>\n",
       "    <tr>\n",
       "      <th>75%</th>\n",
       "      <td>3.600328e-01</td>\n",
       "      <td>2.385688e-01</td>\n",
       "    </tr>\n",
       "    <tr>\n",
       "      <th>max</th>\n",
       "      <td>3.120704e+00</td>\n",
       "      <td>2.892604e+00</td>\n",
       "    </tr>\n",
       "  </tbody>\n",
       "</table>\n",
       "</div>"
      ],
      "text/plain": [
       "               size         price\n",
       "count  4.600000e+01  4.600000e+01\n",
       "mean  -1.399846e-16 -6.516526e-17\n",
       "std    1.011050e+00  1.011050e+00\n",
       "min   -1.442867e+00 -1.356738e+00\n",
       "25%   -7.160437e-01 -7.153282e-01\n",
       "50%   -1.616440e-01 -3.144469e-01\n",
       "75%    3.600328e-01  2.385688e-01\n",
       "max    3.120704e+00  2.892604e+00"
      ]
     },
     "execution_count": 8,
     "metadata": {
      "tags": []
     },
     "output_type": "execute_result"
    }
   ],
   "source": [
    "data.describe()"
   ]
  },
  {
   "cell_type": "code",
   "execution_count": 9,
   "metadata": {
    "colab": {
     "base_uri": "https://localhost:8080/",
     "height": 354
    },
    "colab_type": "code",
    "executionInfo": {
     "elapsed": 1407,
     "status": "ok",
     "timestamp": 1565185884788,
     "user": {
      "displayName": "Ranjith M.S",
      "photoUrl": "",
      "userId": "03619660690537035466"
     },
     "user_tz": -330
    },
    "id": "gNOewKvouh6z",
    "outputId": "eb400f20-9283-4307-d666-b3b04d59b7df"
   },
   "outputs": [
    {
     "data": {
      "text/plain": [
       "<matplotlib.axes._subplots.AxesSubplot at 0x7f64ebc1aef0>"
      ]
     },
     "execution_count": 9,
     "metadata": {
      "tags": []
     },
     "output_type": "execute_result"
    },
    {
     "data": {
      "image/png": "[encoded data removed]",
      "text/plain": [
       "<Figure size 720x360 with 1 Axes>"
      ]
     },
     "metadata": {
      "tags": []
     },
     "output_type": "display_data"
    }
   ],
   "source": [
    "data.plot(kind='scatter', x='size', y='price', figsize=(10,5))"
   ]
  },
  {
   "cell_type": "code",
   "execution_count": 0,
   "metadata": {
    "colab": {},
    "colab_type": "code",
    "id": "f2v0TNyHxDH3"
   },
   "outputs": [],
   "source": [
    "#theta = np.matrix(np.array([0,0]))\n",
    "theta=np.random.randn(1,2)"
   ]
  },
  {
   "cell_type": "code",
   "execution_count": 11,
   "metadata": {
    "colab": {
     "base_uri": "https://localhost:8080/",
     "height": 204
    },
    "colab_type": "code",
    "executionInfo": {
     "elapsed": 1228,
     "status": "ok",
     "timestamp": 1565185888056,
     "user": {
      "displayName": "Ranjith M.S",
      "photoUrl": "",
      "userId": "03619660690537035466"
     },
     "user_tz": -330
    },
    "id": "q62NGU3X3GQI",
    "outputId": "94026a80-0614-48d7-f199-801d991f83d9"
   },
   "outputs": [
    {
     "data": {
      "text/html": [
       "<div>\n",
       "<style scoped>\n",
       "    .dataframe tbody tr th:only-of-type {\n",
       "        vertical-align: middle;\n",
       "    }\n",
       "\n",
       "    .dataframe tbody tr th {\n",
       "        vertical-align: top;\n",
       "    }\n",
       "\n",
       "    .dataframe thead th {\n",
       "        text-align: right;\n",
       "    }\n",
       "</style>\n",
       "<table border=\"1\" class=\"dataframe\">\n",
       "  <thead>\n",
       "    <tr style=\"text-align: right;\">\n",
       "      <th></th>\n",
       "      <th>Ones</th>\n",
       "      <th>size</th>\n",
       "      <th>price</th>\n",
       "    </tr>\n",
       "  </thead>\n",
       "  <tbody>\n",
       "    <tr>\n",
       "      <th>0</th>\n",
       "      <td>1</td>\n",
       "      <td>-0.501458</td>\n",
       "      <td>-0.073918</td>\n",
       "    </tr>\n",
       "    <tr>\n",
       "      <th>1</th>\n",
       "      <td>1</td>\n",
       "      <td>0.505398</td>\n",
       "      <td>0.239571</td>\n",
       "    </tr>\n",
       "    <tr>\n",
       "      <th>2</th>\n",
       "      <td>1</td>\n",
       "      <td>-0.733034</td>\n",
       "      <td>-0.858844</td>\n",
       "    </tr>\n",
       "    <tr>\n",
       "      <th>3</th>\n",
       "      <td>1</td>\n",
       "      <td>1.260539</td>\n",
       "      <td>1.609783</td>\n",
       "    </tr>\n",
       "    <tr>\n",
       "      <th>4</th>\n",
       "      <td>1</td>\n",
       "      <td>-0.016909</td>\n",
       "      <td>-0.314447</td>\n",
       "    </tr>\n",
       "  </tbody>\n",
       "</table>\n",
       "</div>"
      ],
      "text/plain": [
       "   Ones      size     price\n",
       "0     1 -0.501458 -0.073918\n",
       "1     1  0.505398  0.239571\n",
       "2     1 -0.733034 -0.858844\n",
       "3     1  1.260539  1.609783\n",
       "4     1 -0.016909 -0.314447"
      ]
     },
     "execution_count": 11,
     "metadata": {
      "tags": []
     },
     "output_type": "execute_result"
    }
   ],
   "source": [
    "data.insert(0, 'Ones', 1)\n",
    "data.head()"
   ]
  },
  {
   "cell_type": "code",
   "execution_count": 12,
   "metadata": {
    "colab": {
     "base_uri": "https://localhost:8080/",
     "height": 204
    },
    "colab_type": "code",
    "executionInfo": {
     "elapsed": 1023,
     "status": "ok",
     "timestamp": 1565185889459,
     "user": {
      "displayName": "Ranjith M.S",
      "photoUrl": "",
      "userId": "03619660690537035466"
     },
     "user_tz": -330
    },
    "id": "Sm8J1ief3Yiv",
    "outputId": "7f83497c-f8e5-43c5-d93c-a4883e8d860e"
   },
   "outputs": [
    {
     "data": {
      "text/html": [
       "<div>\n",
       "<style scoped>\n",
       "    .dataframe tbody tr th:only-of-type {\n",
       "        vertical-align: middle;\n",
       "    }\n",
       "\n",
       "    .dataframe tbody tr th {\n",
       "        vertical-align: top;\n",
       "    }\n",
       "\n",
       "    .dataframe thead th {\n",
       "        text-align: right;\n",
       "    }\n",
       "</style>\n",
       "<table border=\"1\" class=\"dataframe\">\n",
       "  <thead>\n",
       "    <tr style=\"text-align: right;\">\n",
       "      <th></th>\n",
       "      <th>Ones</th>\n",
       "      <th>size</th>\n",
       "    </tr>\n",
       "  </thead>\n",
       "  <tbody>\n",
       "    <tr>\n",
       "      <th>0</th>\n",
       "      <td>1</td>\n",
       "      <td>-0.501458</td>\n",
       "    </tr>\n",
       "    <tr>\n",
       "      <th>1</th>\n",
       "      <td>1</td>\n",
       "      <td>0.505398</td>\n",
       "    </tr>\n",
       "    <tr>\n",
       "      <th>2</th>\n",
       "      <td>1</td>\n",
       "      <td>-0.733034</td>\n",
       "    </tr>\n",
       "    <tr>\n",
       "      <th>3</th>\n",
       "      <td>1</td>\n",
       "      <td>1.260539</td>\n",
       "    </tr>\n",
       "    <tr>\n",
       "      <th>4</th>\n",
       "      <td>1</td>\n",
       "      <td>-0.016909</td>\n",
       "    </tr>\n",
       "  </tbody>\n",
       "</table>\n",
       "</div>"
      ],
      "text/plain": [
       "   Ones      size\n",
       "0     1 -0.501458\n",
       "1     1  0.505398\n",
       "2     1 -0.733034\n",
       "3     1  1.260539\n",
       "4     1 -0.016909"
      ]
     },
     "execution_count": 12,
     "metadata": {
      "tags": []
     },
     "output_type": "execute_result"
    }
   ],
   "source": [
    "X=data.iloc[:,0:2]\n",
    "X.head()"
   ]
  },
  {
   "cell_type": "code",
   "execution_count": 13,
   "metadata": {
    "colab": {
     "base_uri": "https://localhost:8080/",
     "height": 119
    },
    "colab_type": "code",
    "executionInfo": {
     "elapsed": 674,
     "status": "ok",
     "timestamp": 1565185890811,
     "user": {
      "displayName": "Ranjith M.S",
      "photoUrl": "",
      "userId": "03619660690537035466"
     },
     "user_tz": -330
    },
    "id": "sNMaOnlz3zuI",
    "outputId": "8bf6cb41-9641-4513-bda2-7710d0724412"
   },
   "outputs": [
    {
     "data": {
      "text/plain": [
       "(0   -0.073918\n",
       " 1    0.239571\n",
       " 2   -0.858844\n",
       " 3    1.609783\n",
       " 4   -0.314447\n",
       " Name: price, dtype: float64, (46,))"
      ]
     },
     "execution_count": 13,
     "metadata": {
      "tags": []
     },
     "output_type": "execute_result"
    }
   ],
   "source": [
    "y=data['price']\n",
    "y.head(),y.shape"
   ]
  },
  {
   "cell_type": "code",
   "execution_count": 0,
   "metadata": {
    "colab": {},
    "colab_type": "code",
    "id": "9yCD4zV75a80"
   },
   "outputs": [],
   "source": [
    "x = np.matrix(X)\n",
    "y = np.matrix(y)\n",
    "y=y.T"
   ]
  },
  {
   "cell_type": "code",
   "execution_count": 15,
   "metadata": {
    "colab": {
     "base_uri": "https://localhost:8080/",
     "height": 34
    },
    "colab_type": "code",
    "executionInfo": {
     "elapsed": 744,
     "status": "ok",
     "timestamp": 1565185893472,
     "user": {
      "displayName": "Ranjith M.S",
      "photoUrl": "",
      "userId": "03619660690537035466"
     },
     "user_tz": -330
    },
    "id": "gk7y23hKKOmI",
    "outputId": "e318cb21-c29b-4781-f145-3a5b40e1bb0d"
   },
   "outputs": [
    {
     "data": {
      "text/plain": [
       "((46, 2), (1, 2), (46, 1))"
      ]
     },
     "execution_count": 15,
     "metadata": {
      "tags": []
     },
     "output_type": "execute_result"
    }
   ],
   "source": [
    "x.shape, theta.shape, y.shape"
   ]
  },
  {
   "cell_type": "code",
   "execution_count": 16,
   "metadata": {
    "colab": {
     "base_uri": "https://localhost:8080/",
     "height": 34
    },
    "colab_type": "code",
    "executionInfo": {
     "elapsed": 797,
     "status": "ok",
     "timestamp": 1565185894798,
     "user": {
      "displayName": "Ranjith M.S",
      "photoUrl": "",
      "userId": "03619660690537035466"
     },
     "user_tz": -330
    },
    "id": "hwT-LZotMmiB",
    "outputId": "044afa98-4448-40af-b772-ef4b3de7a432"
   },
   "outputs": [
    {
     "data": {
      "text/plain": [
       "array([[ 0.46629763, -1.31889704]])"
      ]
     },
     "execution_count": 16,
     "metadata": {
      "tags": []
     },
     "output_type": "execute_result"
    }
   ],
   "source": [
    "theta"
   ]
  },
  {
   "cell_type": "code",
   "execution_count": 0,
   "metadata": {
    "colab": {},
    "colab_type": "code",
    "id": "MRrKklxxvZLw"
   },
   "outputs": [],
   "source": [
    "def computeCost(x, y, theta):\n",
    "    \"\"\"\n",
    "    Compute cost for linear regression. Computes the cost of using theta as the\n",
    "    parameter for linear regression to fit the data points in X and y.\n",
    "    \n",
    "    Parameters\n",
    "    ----------\n",
    "    X : array_like\n",
    "        The input dataset of shape (m , n+1) <Here n is 1 and we added one more column of ones>, where m is the number of examples,\n",
    "        and n is the number of features. <Hence the dimension is (46,2)\n",
    "    \n",
    "    y : array_like\n",
    "        The values of the function at each data point. This is a vector of\n",
    "        shape (m, 1).\n",
    "    \n",
    "    theta : array_like\n",
    "        The parameters for the regression function. This is a vector of \n",
    "        shape (1,n+1 ).\n",
    "    \n",
    "    Returns\n",
    "    -------\n",
    "    J : float\n",
    "        The value of the regression cost function.\n",
    "    \n",
    "    Instructions\n",
    "    ------------\n",
    "    Compute the cost of a particular choice of theta. \n",
    "    You should set J to the cost.\n",
    "    \"\"\"\n",
    "    \n",
    "    # initialize some useful values\n",
    "    m =46  # number of training examples\n",
    "    \n",
    "    # You need to return the following variables correctly\n",
    "    J = 0\n",
    "   \n",
    "    h = np.matmul(x, theta.T)\n",
    "    \n",
    "    J = (1/(2 * m)) * np.sum(np.square(h - y))\n",
    "    \n",
    "   \n",
    "    return J"
   ]
  },
  {
   "cell_type": "code",
   "execution_count": 18,
   "metadata": {
    "colab": {
     "base_uri": "https://localhost:8080/",
     "height": 34
    },
    "colab_type": "code",
    "executionInfo": {
     "elapsed": 1126,
     "status": "ok",
     "timestamp": 1565185897779,
     "user": {
      "displayName": "Ranjith M.S",
      "photoUrl": "",
      "userId": "03619660690537035466"
     },
     "user_tz": -330
    },
    "id": "CyW3OMlxwrFW",
    "outputId": "bc22296a-ce7d-4b25-e441-bd29fc61be6c"
   },
   "outputs": [
    {
     "data": {
      "text/plain": [
       "2.6073426865966356"
      ]
     },
     "execution_count": 18,
     "metadata": {
      "tags": []
     },
     "output_type": "execute_result"
    }
   ],
   "source": [
    "computeCost(x,y,theta)\n"
   ]
  },
  {
   "cell_type": "code",
   "execution_count": 20,
   "metadata": {
    "colab": {
     "base_uri": "https://localhost:8080/",
     "height": 731
    },
    "colab_type": "code",
    "executionInfo": {
     "elapsed": 725,
     "status": "ok",
     "timestamp": 1565185902107,
     "user": {
      "displayName": "Ranjith M.S",
      "photoUrl": "",
      "userId": "03619660690537035466"
     },
     "user_tz": -330
    },
    "id": "YpbB7L-DBxLp",
    "outputId": "b86cad65-b645-4014-aeaf-8dc7e1c37508"
   },
   "outputs": [
    {
     "name": "stdout",
     "output_type": "stream",
     "text": [
      "[[1.69554254e-12 8.55928253e-01]] [2.13734932 1.7566547  1.44829206 1.19851831 0.99620158 0.83232503\n",
      " 0.69958502 0.59206562 0.5049749  0.43443142 0.3772912  0.33100762\n",
      " 0.29351792 0.26315126 0.23855427 0.21863071 0.20249262 0.18942077\n",
      " 0.17883257 0.17025613 0.16330922 0.15768221 0.15312434 0.14943247\n",
      " 0.14644205 0.14401981 0.14205779 0.14046856 0.13918128 0.13813859\n",
      " 0.137294   0.13660989 0.13605576 0.13560691 0.13524335 0.13494886\n",
      " 0.13471033 0.13451711 0.13436061 0.13423384 0.13413116 0.13404799\n",
      " 0.13398062 0.13392605 0.13388185 0.13384605 0.13381705 0.13379356\n",
      " 0.13377453 0.13375912 0.13374663 0.13373652 0.13372833 0.1337217\n",
      " 0.13371632 0.13371197 0.13370844 0.13370559 0.13370327 0.1337014\n",
      " 0.13369988 0.13369865 0.13369766 0.13369685 0.1336962  0.13369567\n",
      " 0.13369524 0.13369489 0.13369461 0.13369438 0.1336942  0.13369405\n",
      " 0.13369393 0.13369383 0.13369375 0.13369369 0.13369364 0.13369359\n",
      " 0.13369356 0.13369353 0.13369351 0.13369349 0.13369348 0.13369346\n",
      " 0.13369345 0.13369345 0.13369344 0.13369343 0.13369343 0.13369343\n",
      " 0.13369342 0.13369342 0.13369342 0.13369342 0.13369342 0.13369342\n",
      " 0.13369342 0.13369342 0.13369342 0.13369341 0.13369341 0.13369341\n",
      " 0.13369341 0.13369341 0.13369341 0.13369341 0.13369341 0.13369341\n",
      " 0.13369341 0.13369341 0.13369341 0.13369341 0.13369341 0.13369341\n",
      " 0.13369341 0.13369341 0.13369341 0.13369341 0.13369341 0.13369341\n",
      " 0.13369341 0.13369341 0.13369341 0.13369341 0.13369341 0.13369341\n",
      " 0.13369341 0.13369341 0.13369341 0.13369341 0.13369341 0.13369341\n",
      " 0.13369341 0.13369341 0.13369341 0.13369341 0.13369341 0.13369341\n",
      " 0.13369341 0.13369341 0.13369341 0.13369341 0.13369341 0.13369341\n",
      " 0.13369341 0.13369341 0.13369341 0.13369341 0.13369341 0.13369341\n",
      " 0.13369341 0.13369341 0.13369341 0.13369341 0.13369341 0.13369341\n",
      " 0.13369341 0.13369341 0.13369341 0.13369341 0.13369341 0.13369341\n",
      " 0.13369341 0.13369341 0.13369341 0.13369341 0.13369341 0.13369341\n",
      " 0.13369341 0.13369341 0.13369341 0.13369341 0.13369341 0.13369341\n",
      " 0.13369341 0.13369341 0.13369341 0.13369341 0.13369341 0.13369341\n",
      " 0.13369341 0.13369341 0.13369341 0.13369341 0.13369341 0.13369341\n",
      " 0.13369341 0.13369341 0.13369341 0.13369341 0.13369341 0.13369341\n",
      " 0.13369341 0.13369341 0.13369341 0.13369341 0.13369341 0.13369341\n",
      " 0.13369341 0.13369341 0.13369341 0.13369341 0.13369341 0.13369341\n",
      " 0.13369341 0.13369341 0.13369341 0.13369341 0.13369341 0.13369341\n",
      " 0.13369341 0.13369341 0.13369341 0.13369341 0.13369341 0.13369341\n",
      " 0.13369341 0.13369341 0.13369341 0.13369341 0.13369341 0.13369341\n",
      " 0.13369341 0.13369341 0.13369341 0.13369341 0.13369341 0.13369341\n",
      " 0.13369341 0.13369341 0.13369341 0.13369341 0.13369341 0.13369341\n",
      " 0.13369341 0.13369341 0.13369341 0.13369341 0.13369341 0.13369341\n",
      " 0.13369341 0.13369341 0.13369341 0.13369341 0.13369341 0.13369341\n",
      " 0.13369341 0.13369341 0.13369341 0.13369341]\n"
     ]
    }
   ],
   "source": [
    "num_iters=250\n",
    "new_theta, cost = gradientDescent(x, y, theta,num_iters, lr=0.1)\n",
    "print(new_theta, cost)"
   ]
  },
  {
   "cell_type": "code",
   "execution_count": 0,
   "metadata": {
    "colab": {},
    "colab_type": "code",
    "id": "dOwOi4OhDza6"
   },
   "outputs": [],
   "source": [
    "Model_price = new_theta[0, 0] + (new_theta[0, 1] * x) "
   ]
  },
  {
   "cell_type": "code",
   "execution_count": 22,
   "metadata": {
    "colab": {
     "base_uri": "https://localhost:8080/",
     "height": 367
    },
    "colab_type": "code",
    "executionInfo": {
     "elapsed": 1860,
     "status": "ok",
     "timestamp": 1565185906319,
     "user": {
      "displayName": "Ranjith M.S",
      "photoUrl": "",
      "userId": "03619660690537035466"
     },
     "user_tz": -330
    },
    "id": "74U9V3pUD3C-",
    "outputId": "33d2eb93-b016-4f43-d198-97ed0ac4126d"
   },
   "outputs": [
    {
     "data": {
      "text/plain": [
       "Text(0.5, 1.0, 'Predicted Price vs. Size')"
      ]
     },
     "execution_count": 22,
     "metadata": {
      "tags": []
     },
     "output_type": "execute_result"
    },
    {
     "data": {
      "image/png": "[encoded data removed]",
      "text/plain": [
       "<Figure size 720x360 with 1 Axes>"
      ]
     },
     "metadata": {
      "tags": []
     },
     "output_type": "display_data"
    }
   ],
   "source": [
    "\n",
    "fig, ax = plt.subplots(figsize=(10,5))\n",
    "ax.plot(x, Model_price, 'r', label='Prediction')\n",
    "ax.scatter(data['size'],data.price, label='Training Data')\n",
    "ax.legend(loc=2)\n",
    "ax.set_xlabel('Size')\n",
    "ax.set_ylabel('Price')\n",
    "ax.set_title('Predicted Price vs. Size')"
   ]
  },
  {
   "cell_type": "code",
   "execution_count": 23,
   "metadata": {
    "colab": {
     "base_uri": "https://localhost:8080/",
     "height": 530
    },
    "colab_type": "code",
    "executionInfo": {
     "elapsed": 1346,
     "status": "ok",
     "timestamp": 1565185914066,
     "user": {
      "displayName": "Ranjith M.S",
      "photoUrl": "",
      "userId": "03619660690537035466"
     },
     "user_tz": -330
    },
    "id": "2-Ibu83vJQNO",
    "outputId": "1770c9d1-1799-407d-e83a-712f0625316a"
   },
   "outputs": [
    {
     "data": {
      "text/plain": [
       "Text(0.5, 1.0, 'MSE vs. Iterations')"
      ]
     },
     "execution_count": 23,
     "metadata": {
      "tags": []
     },
     "output_type": "execute_result"
    },
    {
     "data": {
      "image/png": "[encoded data removed]",
      "text/plain": [
       "<Figure size 864x576 with 1 Axes>"
      ]
     },
     "metadata": {
      "tags": []
     },
     "output_type": "display_data"
    }
   ],
   "source": [
    "fig, ax = plt.subplots(figsize=(12,8))\n",
    "ax.plot(np.arange(num_iters), cost, 'r')\n",
    "ax.set_xlabel('Iterations')\n",
    "ax.set_ylabel('Cost')\n",
    "ax.set_title('MSE vs. Iterations')"
   ]
  },
  {
   "cell_type": "markdown",
   "metadata": {
    "colab_type": "text",
    "id": "dq2cSVpdmHIq"
   },
   "source": [
    "##Problem  of Overshooting"
   ]
  },
  {
   "cell_type": "code",
   "execution_count": 24,
   "metadata": {
    "colab": {
     "base_uri": "https://localhost:8080/",
     "height": 1000
    },
    "colab_type": "code",
    "executionInfo": {
     "elapsed": 954,
     "status": "ok",
     "timestamp": 1565185918851,
     "user": {
      "displayName": "Ranjith M.S",
      "photoUrl": "",
      "userId": "03619660690537035466"
     },
     "user_tz": -330
    },
    "id": "lMKKxy0fp9PA",
    "outputId": "c07a0401-7f4c-4113-c9c5-0dfa0d478be2"
   },
   "outputs": [
    {
     "name": "stdout",
     "output_type": "stream",
     "text": [
      "[[ 1.03952395e+10 -4.84836899e+10]] [3.12680903e+00 3.75536331e+00 4.51591399e+00 5.43618032e+00\n",
      " 6.54970257e+00 7.89706449e+00 9.52737241e+00 1.15000450e+01\n",
      " 1.38869788e+01 1.67751688e+01 2.02698786e+01 2.44984775e+01\n",
      " 2.96150821e+01 3.58061738e+01 4.32973947e+01 5.23617719e+01\n",
      " 6.33296684e+01 7.66008232e+01 9.26589204e+01 1.12089218e+02\n",
      " 1.35599878e+02 1.64047777e+02 1.98469735e+02 2.40120303e+02\n",
      " 2.90517491e+02 3.51498089e+02 4.25284612e+02 5.14566305e+02\n",
      " 6.22597153e+02 7.53314480e+02 9.11482445e+02 1.10286568e+03\n",
      " 1.33443940e+03 1.61464360e+03 1.95369068e+03 2.36393765e+03\n",
      " 2.86033648e+03 3.46097906e+03 4.18775659e+03 5.06715740e+03\n",
      " 6.13123237e+03 7.41876310e+03 8.97667527e+03 1.08617490e+04\n",
      " 1.31426882e+04 1.59026247e+04 1.92421478e+04 2.32829707e+04\n",
      " 2.81723665e+04 3.40885354e+04 4.12470998e+04 4.99089626e+04\n",
      " 6.03898167e+04 7.30716501e+04 8.84166686e+04 1.06984141e+05\n",
      " 1.29450782e+05 1.56635419e+05 1.89528829e+05 2.29329854e+05\n",
      " 2.77489096e+05 3.35761778e+05 4.06271723e+05 4.91588757e+05\n",
      " 5.94822368e+05 7.19735037e+05 8.70879367e+05 1.05376401e+06\n",
      " 1.27505442e+06 1.54281582e+06 1.86680711e+06 2.25883658e+06\n",
      " 2.73319223e+06 3.30716257e+06 4.00166668e+06 4.84201666e+06\n",
      " 5.85884013e+06 7.08919653e+06 8.57792777e+06 1.03792926e+07\n",
      " 1.25589440e+07 1.51963222e+07 1.83875498e+07 2.22489353e+07\n",
      " 2.69212116e+07 3.25746661e+07 3.94153459e+07 4.76925685e+07\n",
      " 5.77080079e+07 6.98266895e+07 8.44902943e+07 1.02233256e+08\n",
      " 1.23702240e+08 1.49679710e+08 1.81112449e+08 2.19146064e+08\n",
      " 2.65166737e+08 3.20851752e+08 3.88230619e+08 4.69759049e+08\n",
      " 5.68408450e+08 6.87774224e+08 8.32206811e+08 1.00697024e+09\n",
      " 1.21843399e+09 1.47430513e+09 1.78390921e+09 2.15853014e+09\n",
      " 2.61182147e+09 3.16030398e+09 3.82396782e+09 4.62700106e+09\n",
      " 5.59867128e+09 6.77439225e+09 8.19701462e+09 9.91838769e+09\n",
      " 1.20012491e+10 1.45215114e+10 1.75710288e+10 2.12609449e+10\n",
      " 2.57257433e+10 3.11281494e+10 3.76650607e+10 4.55747235e+10\n",
      " 5.51454154e+10 6.67259527e+10 8.07384027e+10 9.76934673e+10\n",
      " 1.18209095e+11 1.43033005e+11 1.73069937e+11 2.09414623e+11\n",
      " 2.53391694e+11 3.06603950e+11 3.70990780e+11 4.48898843e+11\n",
      " 5.43167600e+11 6.57232796e+11 7.95251684e+11 9.62254537e+11\n",
      " 1.16432799e+12 1.40883687e+12 1.70469261e+12 2.06267806e+12\n",
      " 2.49584045e+12 3.01996695e+12 3.65416000e+12 4.42153360e+12\n",
      " 5.35005566e+12 6.47356735e+12 7.83301649e+12 9.47794996e+12\n",
      " 1.14683194e+13 1.38766665e+13 1.67907665e+13 2.03168275e+13\n",
      " 2.45833612e+13 2.97458671e+13 3.59924992e+13 4.35509240e+13\n",
      " 5.26966181e+13 6.37629079e+13 7.71531185e+13 9.33552734e+13\n",
      " 1.12959881e+14 1.36681456e+14 1.65384561e+14 2.00115319e+14\n",
      " 2.42139536e+14 2.92988839e+14 3.54516495e+14 4.28964959e+14\n",
      " 5.19047601e+14 6.28047597e+14 7.59937592e+14 9.19524487e+14\n",
      " 1.11262463e+15 1.34627580e+15 1.62899372e+15 1.97108240e+15\n",
      " 2.38500970e+15 2.88586174e+15 3.49189271e+15 4.22519018e+15\n",
      " 5.11248011e+15 6.18610094e+15 7.48518214e+15 9.05707038e+15\n",
      " 1.09590552e+16 1.32604567e+16 1.60451527e+16 1.94146347e+16\n",
      " 2.34917080e+16 2.84249667e+16 3.43942097e+16 4.16169937e+16\n",
      " 5.03565624e+16 6.09314405e+16 7.37270431e+16 8.92097221e+16\n",
      " 1.07943764e+17 1.30611954e+17 1.58040465e+17 1.91228962e+17\n",
      " 2.31387044e+17 2.79978323e+17 3.38773771e+17 4.09916263e+17\n",
      " 4.95998678e+17 6.00158401e+17 7.26191665e+17 8.78691915e+17\n",
      " 1.06321722e+18 1.28649283e+18 1.55665633e+18 1.88355416e+18\n",
      " 2.27910053e+18 2.75771164e+18 3.33683108e+18 4.03756561e+18\n",
      " 4.88545439e+18 5.91139981e+18 7.15279377e+18 8.65488047e+18\n",
      " 1.04724054e+19 1.26716105e+19 1.53326487e+19 1.85525049e+19\n",
      " 2.24485310e+19 2.71627224e+19 3.28668942e+19 3.97689419e+19\n",
      " 4.81204197e+19 5.82257079e+19 7.04531066e+19 8.52482589e+19\n",
      " 1.03150393e+20 1.24811976e+20 1.51022491e+20 1.82737214e+20\n",
      " 2.21112029e+20 2.67545555e+20 3.23730121e+20 3.91713447e+20\n",
      " 4.73973271e+20 5.73507658e+20 6.93944266e+20 8.39672561e+20\n",
      " 1.01600380e+21 1.22936460e+21]\n"
     ]
    }
   ],
   "source": [
    "num_iters=250\n",
    "new_theta, cost = gradientDescent(x, y, theta,num_iters, lr=2.1)\n",
    "print(new_theta, cost)"
   ]
  },
  {
   "cell_type": "code",
   "execution_count": 25,
   "metadata": {
    "colab": {
     "base_uri": "https://localhost:8080/",
     "height": 530
    },
    "colab_type": "code",
    "executionInfo": {
     "elapsed": 1234,
     "status": "ok",
     "timestamp": 1565185920666,
     "user": {
      "displayName": "Ranjith M.S",
      "photoUrl": "",
      "userId": "03619660690537035466"
     },
     "user_tz": -330
    },
    "id": "5dXxsY_VjOiQ",
    "outputId": "abbb00ad-9b05-497f-af1e-f7118cd84a0a"
   },
   "outputs": [
    {
     "data": {
      "text/plain": [
       "Text(0.5, 1.0, 'MSE vs. Iterations')"
      ]
     },
     "execution_count": 25,
     "metadata": {
      "tags": []
     },
     "output_type": "execute_result"
    },
    {
     "data": {
      "image/png": "[encoded data removed]",
      "text/plain": [
       "<Figure size 864x576 with 1 Axes>"
      ]
     },
     "metadata": {
      "tags": []
     },
     "output_type": "display_data"
    }
   ],
   "source": [
    "fig, ax = plt.subplots(figsize=(12,8))\n",
    "ax.plot(np.arange(num_iters), cost, 'r')\n",
    "ax.set_xlabel('Iterations')\n",
    "ax.set_ylabel('Cost')\n",
    "ax.set_title('MSE vs. Iterations')"
   ]
  },
  {
   "cell_type": "code",
   "execution_count": 26,
   "metadata": {
    "colab": {
     "base_uri": "https://localhost:8080/",
     "height": 51
    },
    "colab_type": "code",
    "executionInfo": {
     "elapsed": 736,
     "status": "ok",
     "timestamp": 1565185922283,
     "user": {
      "displayName": "Ranjith M.S",
      "photoUrl": "",
      "userId": "03619660690537035466"
     },
     "user_tz": -330
    },
    "id": "PQpOeIcpjejI",
    "outputId": "8f68ecfb-ec71-48f0-e892-c6c3bae8d620"
   },
   "outputs": [
    {
     "data": {
      "text/plain": [
       "(array([[ 0.46629763, -1.31889704]]),\n",
       " matrix([[ 1.03952395e+10, -4.84836899e+10]]))"
      ]
     },
     "execution_count": 26,
     "metadata": {
      "tags": []
     },
     "output_type": "execute_result"
    }
   ],
   "source": [
    "theta,new_theta"
   ]
  },
  {
   "cell_type": "code",
   "execution_count": 0,
   "metadata": {
    "colab": {},
    "colab_type": "code",
    "id": "BpsnmHMUnH4J"
   },
   "outputs": [],
   "source": []
  }
 ],
 "metadata": {
  "colab": {
   "collapsed_sections": [],
   "name": "Housing_price.ipynb",
   "provenance": [],
   "version": "0.3.2"
  },
  "kernelspec": {
   "display_name": "Python 3",
   "language": "python",
   "name": "python3"
  },
  "language_info": {
   "codemirror_mode": {
    "name": "ipython",
    "version": 3
   },
   "file_extension": ".py",
   "mimetype": "text/x-python",
   "name": "python",
   "nbconvert_exporter": "python",
   "pygments_lexer": "ipython3",
   "version": "3.7.3"
  }
 },
 "nbformat": 4,
 "nbformat_minor": 1
}
