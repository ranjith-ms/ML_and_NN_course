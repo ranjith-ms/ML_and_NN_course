{
 "cells": [
  {
   "cell_type": "code",
   "execution_count": 1,
   "metadata": {
    "colab": {},
    "colab_type": "code",
    "id": "hLylZXn0uFid"
   },
   "outputs": [],
   "source": [
    "import matplotlib.pyplot as plt\n",
    "import pandas as pd\n",
    "import numpy as np"
   ]
  },
  {
   "cell_type": "markdown",
   "metadata": {},
   "source": [
    "### Inserting a Column of ones\n",
    "since the theta(parameters) has 2 elements we can obtain hypothesis function simply by dot product between input\n",
    "and theta if we insert a column of ones so that theta[0] * 1 = theta[0] only [we use it inside computecost funtion only]\n",
    ".Hence the dot product will compute (theta[0] * 1 + theta[1]*data['x']) which is a required hypothesis function"
   ]
  },
  {
   "cell_type": "code",
   "execution_count": 42,
   "metadata": {
    "colab": {
     "base_uri": "https://localhost:8080/",
     "height": 204
    },
    "colab_type": "code",
    "executionInfo": {
     "elapsed": 4445,
     "status": "ok",
     "timestamp": 1564844479064,
     "user": {
      "displayName": "Ranjith M.S",
      "photoUrl": "",
      "userId": "03619660690537035466"
     },
     "user_tz": -330
    },
    "id": "z5dHMdwEudOv",
    "outputId": "cd891343-4254-4ea4-8da1-187b9158eb9b"
   },
   "outputs": [
    {
     "data": {
      "text/html": [
       "<div>\n",
       "<style scoped>\n",
       "    .dataframe tbody tr th:only-of-type {\n",
       "        vertical-align: middle;\n",
       "    }\n",
       "\n",
       "    .dataframe tbody tr th {\n",
       "        vertical-align: top;\n",
       "    }\n",
       "\n",
       "    .dataframe thead th {\n",
       "        text-align: right;\n",
       "    }\n",
       "</style>\n",
       "<table border=\"1\" class=\"dataframe\">\n",
       "  <thead>\n",
       "    <tr style=\"text-align: right;\">\n",
       "      <th></th>\n",
       "      <th>Ones</th>\n",
       "      <th>x</th>\n",
       "      <th>y</th>\n",
       "    </tr>\n",
       "  </thead>\n",
       "  <tbody>\n",
       "    <tr>\n",
       "      <th>0</th>\n",
       "      <td>1</td>\n",
       "      <td>1</td>\n",
       "      <td>1</td>\n",
       "    </tr>\n",
       "    <tr>\n",
       "      <th>1</th>\n",
       "      <td>1</td>\n",
       "      <td>2</td>\n",
       "      <td>2</td>\n",
       "    </tr>\n",
       "    <tr>\n",
       "      <th>2</th>\n",
       "      <td>1</td>\n",
       "      <td>0</td>\n",
       "      <td>0</td>\n",
       "    </tr>\n",
       "    <tr>\n",
       "      <th>3</th>\n",
       "      <td>1</td>\n",
       "      <td>3</td>\n",
       "      <td>3</td>\n",
       "    </tr>\n",
       "    <tr>\n",
       "      <th>4</th>\n",
       "      <td>1</td>\n",
       "      <td>4</td>\n",
       "      <td>4</td>\n",
       "    </tr>\n",
       "  </tbody>\n",
       "</table>\n",
       "</div>"
      ],
      "text/plain": [
       "   Ones  x  y\n",
       "0     1  1  1\n",
       "1     1  2  2\n",
       "2     1  0  0\n",
       "3     1  3  3\n",
       "4     1  4  4"
      ]
     },
     "execution_count": 42,
     "metadata": {},
     "output_type": "execute_result"
    }
   ],
   "source": [
    "data=pd.DataFrame()\n",
    "data['x']=[1,2,0,3,4] #inputs\n",
    "data['y']=[1,2,0,3,4] #outputs\n",
    "data.insert(0, 'Ones', 1)\n",
    "data.head()"
   ]
  },
  {
   "cell_type": "code",
   "execution_count": 3,
   "metadata": {
    "colab": {
     "base_uri": "https://localhost:8080/",
     "height": 204
    },
    "colab_type": "code",
    "executionInfo": {
     "elapsed": 4433,
     "status": "ok",
     "timestamp": 1564844479067,
     "user": {
      "displayName": "Ranjith M.S",
      "photoUrl": "",
      "userId": "03619660690537035466"
     },
     "user_tz": -330
    },
    "id": "VCAXc4551GiO",
    "outputId": "acab8a1d-88a8-4eec-b96b-5485ab3f3c95"
   },
   "outputs": [
    {
     "data": {
      "text/html": [
       "<div>\n",
       "<style scoped>\n",
       "    .dataframe tbody tr th:only-of-type {\n",
       "        vertical-align: middle;\n",
       "    }\n",
       "\n",
       "    .dataframe tbody tr th {\n",
       "        vertical-align: top;\n",
       "    }\n",
       "\n",
       "    .dataframe thead th {\n",
       "        text-align: right;\n",
       "    }\n",
       "</style>\n",
       "<table border=\"1\" class=\"dataframe\">\n",
       "  <thead>\n",
       "    <tr style=\"text-align: right;\">\n",
       "      <th></th>\n",
       "      <th>Ones</th>\n",
       "      <th>x</th>\n",
       "    </tr>\n",
       "  </thead>\n",
       "  <tbody>\n",
       "    <tr>\n",
       "      <th>0</th>\n",
       "      <td>1</td>\n",
       "      <td>1</td>\n",
       "    </tr>\n",
       "    <tr>\n",
       "      <th>1</th>\n",
       "      <td>1</td>\n",
       "      <td>2</td>\n",
       "    </tr>\n",
       "    <tr>\n",
       "      <th>2</th>\n",
       "      <td>1</td>\n",
       "      <td>0</td>\n",
       "    </tr>\n",
       "    <tr>\n",
       "      <th>3</th>\n",
       "      <td>1</td>\n",
       "      <td>3</td>\n",
       "    </tr>\n",
       "    <tr>\n",
       "      <th>4</th>\n",
       "      <td>1</td>\n",
       "      <td>4</td>\n",
       "    </tr>\n",
       "  </tbody>\n",
       "</table>\n",
       "</div>"
      ],
      "text/plain": [
       "   Ones  x\n",
       "0     1  1\n",
       "1     1  2\n",
       "2     1  0\n",
       "3     1  3\n",
       "4     1  4"
      ]
     },
     "execution_count": 3,
     "metadata": {},
     "output_type": "execute_result"
    }
   ],
   "source": [
    "X=data.iloc[:,0:2] #selecting inputs\n",
    "X.head()"
   ]
  },
  {
   "cell_type": "code",
   "execution_count": 4,
   "metadata": {
    "colab": {
     "base_uri": "https://localhost:8080/",
     "height": 119
    },
    "colab_type": "code",
    "executionInfo": {
     "elapsed": 4419,
     "status": "ok",
     "timestamp": 1564844479068,
     "user": {
      "displayName": "Ranjith M.S",
      "photoUrl": "",
      "userId": "03619660690537035466"
     },
     "user_tz": -330
    },
    "id": "v0SV4xxF1Mvh",
    "outputId": "a44c67d8-0456-4822-afb0-20bc5fa5bedb"
   },
   "outputs": [
    {
     "data": {
      "text/plain": [
       "(0    1\n",
       " 1    2\n",
       " 2    0\n",
       " 3    3\n",
       " 4    4\n",
       " Name: y, dtype: int64, (5,))"
      ]
     },
     "execution_count": 4,
     "metadata": {},
     "output_type": "execute_result"
    }
   ],
   "source": [
    "y=data['y'] #output\n",
    "y.head(),y.shape"
   ]
  },
  {
   "cell_type": "code",
   "execution_count": 5,
   "metadata": {
    "colab": {},
    "colab_type": "code",
    "id": "Za7W8_Cf1TbC"
   },
   "outputs": [],
   "source": [
    "x = np.matrix(X)\n",
    "y = np.matrix(y)\n",
    "y=y.T"
   ]
  },
  {
   "cell_type": "code",
   "execution_count": 7,
   "metadata": {
    "colab": {},
    "colab_type": "code",
    "id": "m7l0bsjCyFlq"
   },
   "outputs": [],
   "source": [
    "theta=np.array([1.5,0])"
   ]
  },
  {
   "cell_type": "code",
   "execution_count": 8,
   "metadata": {
    "colab": {
     "base_uri": "https://localhost:8080/",
     "height": 34
    },
    "colab_type": "code",
    "executionInfo": {
     "elapsed": 4344,
     "status": "ok",
     "timestamp": 1564844479071,
     "user": {
      "displayName": "Ranjith M.S",
      "photoUrl": "",
      "userId": "03619660690537035466"
     },
     "user_tz": -330
    },
    "id": "Y29xRmgl1YX3",
    "outputId": "d9e9df2c-1974-4e74-affb-06f397736663"
   },
   "outputs": [
    {
     "data": {
      "text/plain": [
       "((5, 2), (2,), (5, 1))"
      ]
     },
     "execution_count": 8,
     "metadata": {},
     "output_type": "execute_result"
    }
   ],
   "source": [
    "x.shape, theta.shape, y.shape"
   ]
  },
  {
   "cell_type": "code",
   "execution_count": null,
   "metadata": {
    "colab": {},
    "colab_type": "code",
    "id": "mLhPR98iAh_y"
   },
   "outputs": [],
   "source": []
  },
  {
   "cell_type": "markdown",
   "metadata": {
    "colab_type": "text",
    "id": "26kBkzhaAir6"
   },
   "source": [
    "## When θ0=1.5,θ1=0"
   ]
  },
  {
   "cell_type": "code",
   "execution_count": 10,
   "metadata": {
    "colab": {},
    "colab_type": "code",
    "id": "UspSaGZrAcw5"
   },
   "outputs": [],
   "source": [
    "theta=np.array([1.5,0])"
   ]
  },
  {
   "cell_type": "code",
   "execution_count": 11,
   "metadata": {
    "colab": {},
    "colab_type": "code",
    "id": "MxyKUgJdv1Yn"
   },
   "outputs": [],
   "source": [
    "Model_price =theta[0]  + (theta[1] *data['x'] )"
   ]
  },
  {
   "cell_type": "code",
   "execution_count": 12,
   "metadata": {
    "colab": {
     "base_uri": "https://localhost:8080/",
     "height": 312
    },
    "colab_type": "code",
    "executionInfo": {
     "elapsed": 1210,
     "status": "ok",
     "timestamp": 1564844814787,
     "user": {
      "displayName": "Ranjith M.S",
      "photoUrl": "",
      "userId": "03619660690537035466"
     },
     "user_tz": -330
    },
    "id": "SSfsyVx9_7Dd",
    "outputId": "7edd6768-603b-4bd6-b284-bb6a0b7651c9"
   },
   "outputs": [
    {
     "data": {
      "image/png": "[encoded data removed]",
      "text/plain": [
       "<Figure size 432x288 with 1 Axes>"
      ]
     },
     "metadata": {
      "needs_background": "light"
     },
     "output_type": "display_data"
    }
   ],
   "source": [
    "plt.plot(data['x'],Model_price)\n",
    "plt.xlim(0,5)\n",
    "plt.ylim(0,5)\n",
    "plt.xlabel('x')\n",
    "plt.ylabel('h(x)')\n",
    "plt.title('θ0=1.5,θ1=0')\n",
    "plt.show()"
   ]
  },
  {
   "cell_type": "markdown",
   "metadata": {
    "colab_type": "text",
    "id": "_zrkuZzCBhXP"
   },
   "source": [
    "## When θ0=0,θ1=0.5"
   ]
  },
  {
   "cell_type": "code",
   "execution_count": 13,
   "metadata": {
    "colab": {},
    "colab_type": "code",
    "id": "U_gdWCm1Bgpb"
   },
   "outputs": [],
   "source": [
    "theta=np.array([0,0.5])"
   ]
  },
  {
   "cell_type": "code",
   "execution_count": 14,
   "metadata": {
    "colab": {},
    "colab_type": "code",
    "id": "AYLWA9OxBrpM"
   },
   "outputs": [],
   "source": [
    "Model_price =theta[0]  + (theta[1] *data['x'] )"
   ]
  },
  {
   "cell_type": "code",
   "execution_count": 15,
   "metadata": {
    "colab": {
     "base_uri": "https://localhost:8080/",
     "height": 295
    },
    "colab_type": "code",
    "executionInfo": {
     "elapsed": 1394,
     "status": "ok",
     "timestamp": 1564844990570,
     "user": {
      "displayName": "Ranjith M.S",
      "photoUrl": "",
      "userId": "03619660690537035466"
     },
     "user_tz": -330
    },
    "id": "DndyAHU_Bvmf",
    "outputId": "5955b738-1930-44ce-fad9-52825d6b2957"
   },
   "outputs": [
    {
     "data": {
      "image/png": "[encoded data removed]",
      "text/plain": [
       "<Figure size 432x288 with 1 Axes>"
      ]
     },
     "metadata": {
      "needs_background": "light"
     },
     "output_type": "display_data"
    }
   ],
   "source": [
    "plt.plot(data['x'],Model_price)\n",
    "plt.xlim(0,5)\n",
    "plt.ylim(0,5)\n",
    "plt.xlabel('x')\n",
    "plt.ylabel('h(x)')\n",
    "plt.title('θ0=0,θ1=0.5')\n",
    "plt.show()"
   ]
  },
  {
   "cell_type": "markdown",
   "metadata": {
    "colab_type": "text",
    "id": "68y-f0yZCLug"
   },
   "source": [
    "## When θ0=1,θ1=0.5"
   ]
  },
  {
   "cell_type": "code",
   "execution_count": 16,
   "metadata": {
    "colab": {},
    "colab_type": "code",
    "id": "BnNx-MvLCRMM"
   },
   "outputs": [],
   "source": [
    "theta=np.array([1,0.5])"
   ]
  },
  {
   "cell_type": "code",
   "execution_count": 17,
   "metadata": {
    "colab": {},
    "colab_type": "code",
    "id": "IfJ5cCgBCZaO"
   },
   "outputs": [],
   "source": [
    "Model_price =theta[0]  + (theta[1] *data['x'] )"
   ]
  },
  {
   "cell_type": "code",
   "execution_count": 18,
   "metadata": {
    "colab": {
     "base_uri": "https://localhost:8080/",
     "height": 295
    },
    "colab_type": "code",
    "executionInfo": {
     "elapsed": 1261,
     "status": "ok",
     "timestamp": 1564845180688,
     "user": {
      "displayName": "Ranjith M.S",
      "photoUrl": "",
      "userId": "03619660690537035466"
     },
     "user_tz": -330
    },
    "id": "9Bpt0OhmCi7U",
    "outputId": "46a79977-3732-4454-d88e-0d04c5d22ba9"
   },
   "outputs": [
    {
     "data": {
      "image/png": "[encoded data removed]",
      "text/plain": [
       "<Figure size 432x288 with 1 Axes>"
      ]
     },
     "metadata": {
      "needs_background": "light"
     },
     "output_type": "display_data"
    }
   ],
   "source": [
    "plt.plot(data['x'],Model_price)\n",
    "plt.xlim(0,5)\n",
    "plt.ylim(0,5)\n",
    "plt.xlabel('x')\n",
    "plt.ylabel('h(x)')\n",
    "plt.title('θ0=1,θ1=0.5')\n",
    "plt.show()"
   ]
  },
  {
   "cell_type": "markdown",
   "metadata": {
    "colab_type": "text",
    "id": "aiPceNEgEH5Y"
   },
   "source": [
    "# Cost Function"
   ]
  },
  {
   "cell_type": "code",
   "execution_count": 19,
   "metadata": {
    "colab": {},
    "colab_type": "code",
    "id": "tNvLSyonD8wx"
   },
   "outputs": [],
   "source": [
    "theta=np.array([0,1])"
   ]
  },
  {
   "cell_type": "code",
   "execution_count": 20,
   "metadata": {
    "colab": {},
    "colab_type": "code",
    "id": "wKl25lTtEAu4"
   },
   "outputs": [],
   "source": [
    "Model_price =theta[0]  + (theta[1] *data['x'] )"
   ]
  },
  {
   "cell_type": "code",
   "execution_count": 21,
   "metadata": {
    "colab": {
     "base_uri": "https://localhost:8080/",
     "height": 269
    },
    "colab_type": "code",
    "executionInfo": {
     "elapsed": 1079,
     "status": "ok",
     "timestamp": 1564845651115,
     "user": {
      "displayName": "Ranjith M.S",
      "photoUrl": "",
      "userId": "03619660690537035466"
     },
     "user_tz": -330
    },
    "id": "TNGnRtwL5BE5",
    "outputId": "cf9ef254-05c9-47cc-c5e1-fae686ab1158"
   },
   "outputs": [
    {
     "data": {
      "image/png": "[encoded data removed]",
      "text/plain": [
       "<Figure size 432x288 with 1 Axes>"
      ]
     },
     "metadata": {
      "needs_background": "light"
     },
     "output_type": "display_data"
    }
   ],
   "source": [
    "plt.scatter(data['x'],data['y'],150)\n",
    "#plt.title(\"When parameter is (0,2) \")\n",
    "plt.xlim(0,5)\n",
    "plt.ylim(0,5)\n",
    "plt.show()"
   ]
  },
  {
   "cell_type": "code",
   "execution_count": 22,
   "metadata": {
    "colab": {
     "base_uri": "https://localhost:8080/",
     "height": 336
    },
    "colab_type": "code",
    "executionInfo": {
     "elapsed": 1532,
     "status": "ok",
     "timestamp": 1564845639537,
     "user": {
      "displayName": "Ranjith M.S",
      "photoUrl": "",
      "userId": "03619660690537035466"
     },
     "user_tz": -330
    },
    "id": "DGid0kdgulMG",
    "outputId": "d9d74388-80b6-4f8d-fac3-fdb8ddf36732"
   },
   "outputs": [
    {
     "data": {
      "image/png": "[encoded data removed]",
      "text/plain": [
       "<Figure size 720x360 with 1 Axes>"
      ]
     },
     "metadata": {
      "needs_background": "light"
     },
     "output_type": "display_data"
    }
   ],
   "source": [
    "fig, ax = plt.subplots(figsize=(10,5))\n",
    "ax.plot(data['x'], Model_price, 'r', label='Prediction')\n",
    "plt.scatter(data['x'],data['y'],150)\n",
    "plt.title(\"When parameter is (0,1) \")\n",
    "plt.xlim(0,5)\n",
    "plt.ylim(0,5)\n",
    "plt.show()"
   ]
  },
  {
   "cell_type": "code",
   "execution_count": 25,
   "metadata": {
    "colab": {},
    "colab_type": "code",
    "id": "c3otU488u0wy"
   },
   "outputs": [],
   "source": [
    "def computeCost(x, y, theta):\n",
    "    \"\"\"\n",
    "    Compute cost for linear regression. Computes the cost of using theta as the\n",
    "    parameter for linear regression to fit the data points in X and y.\n",
    "    \n",
    "    Parameters\n",
    "    ----------\n",
    "    X : array_like\n",
    "        The input dataset of shape (m , n+1) <Here n is 1 and we added one more column of ones>, where m is the number of examples,\n",
    "        and n is the number of features. <Hence the dimension is (46,2)\n",
    "    \n",
    "    y : array_like\n",
    "        The values of the function at each data point. This is a vector of\n",
    "        shape (m, 1).\n",
    "    \n",
    "    theta : array_like\n",
    "        The parameters for the regression function. This is a vector of \n",
    "        shape (1,n+1 ).\n",
    "    \n",
    "    Returns\n",
    "    -------\n",
    "    J : float\n",
    "        The value of the regression cost function.\n",
    "    \n",
    "    Instructions\n",
    "    ------------\n",
    "    Compute the cost of a particular choice of theta. \n",
    "    You should set J to the cost.\n",
    "    \"\"\"\n",
    "    \n",
    "    # initialize some useful values\n",
    "    m =5  # number of training examples\n",
    "    \n",
    "    # You need to return the following variables correctly\n",
    "    J = 0\n",
    "   \n",
    "    h = np.dot(x, theta.T) #Here is the advantage of inserting ones, we can simply take the dot product\n",
    "    \n",
    "    J = (1/(2 * m)) * np.sum(np.square(h - y.T))\n",
    "    \n",
    "   \n",
    "    return J"
   ]
  },
  {
   "cell_type": "code",
   "execution_count": 26,
   "metadata": {
    "colab": {
     "base_uri": "https://localhost:8080/",
     "height": 34
    },
    "colab_type": "code",
    "executionInfo": {
     "elapsed": 967,
     "status": "ok",
     "timestamp": 1564759631037,
     "user": {
      "displayName": "Ranjith M.S",
      "photoUrl": "",
      "userId": "03619660690537035466"
     },
     "user_tz": -330
    },
    "id": "ye5CECHRyAjW",
    "outputId": "ac5e2003-7760-49c0-c429-ad052554872a"
   },
   "outputs": [
    {
     "data": {
      "text/plain": [
       "3.0"
      ]
     },
     "execution_count": 26,
     "metadata": {},
     "output_type": "execute_result"
    }
   ],
   "source": [
    "computeCost(X,y,theta)"
   ]
  },
  {
   "cell_type": "markdown",
   "metadata": {
    "colab_type": "text",
    "id": "4RtNPcUJF0XF"
   },
   "source": [
    "## What is the cost when Θ1=2 ???..."
   ]
  },
  {
   "cell_type": "code",
   "execution_count": 27,
   "metadata": {
    "colab": {
     "base_uri": "https://localhost:8080/",
     "height": 353
    },
    "colab_type": "code",
    "executionInfo": {
     "elapsed": 1426,
     "status": "ok",
     "timestamp": 1564759992366,
     "user": {
      "displayName": "Ranjith M.S",
      "photoUrl": "",
      "userId": "03619660690537035466"
     },
     "user_tz": -330
    },
    "id": "3a1NU2i_9jow",
    "outputId": "58f3e2b3-e0f8-40fa-e9ed-597d513c118b"
   },
   "outputs": [
    {
     "data": {
      "image/png": "[encoded data removed]",
      "text/plain": [
       "<Figure size 720x360 with 1 Axes>"
      ]
     },
     "metadata": {
      "needs_background": "light"
     },
     "output_type": "display_data"
    }
   ],
   "source": [
    "theta=np.array([0,2])\n",
    "Model_price =theta[0]  + (theta[1] *data['x'] )\n",
    "fig, ax = plt.subplots(figsize=(10,5))\n",
    "ax.plot(data['x'], Model_price, 'r', label='Prediction')\n",
    "plt.scatter(data['x'],data['y'],150)\n",
    "plt.title(\"When parameter is (0,2) \")\n",
    "plt.xlim(0,5)\n",
    "plt.ylim(0,10)\n",
    "plt.show()"
   ]
  },
  {
   "cell_type": "code",
   "execution_count": 28,
   "metadata": {
    "colab": {
     "base_uri": "https://localhost:8080/",
     "height": 34
    },
    "colab_type": "code",
    "executionInfo": {
     "elapsed": 1370,
     "status": "ok",
     "timestamp": 1564760011796,
     "user": {
      "displayName": "Ranjith M.S",
      "photoUrl": "",
      "userId": "03619660690537035466"
     },
     "user_tz": -330
    },
    "id": "Kis3qsiS9uYa",
    "outputId": "a156b7e2-213b-44f5-d4d6-762fe1e67268"
   },
   "outputs": [
    {
     "data": {
      "text/plain": [
       "3.0"
      ]
     },
     "execution_count": 28,
     "metadata": {},
     "output_type": "execute_result"
    }
   ],
   "source": [
    "computeCost(X,y,theta)"
   ]
  },
  {
   "cell_type": "code",
   "execution_count": null,
   "metadata": {
    "colab": {},
    "colab_type": "code",
    "id": "SHuQTQmIGErc"
   },
   "outputs": [],
   "source": []
  },
  {
   "cell_type": "markdown",
   "metadata": {
    "colab_type": "text",
    "id": "V1QHKcKCGGHo"
   },
   "source": [
    "## What is the cost when Θ1=0.5 ???..."
   ]
  },
  {
   "cell_type": "code",
   "execution_count": 41,
   "metadata": {
    "colab": {
     "base_uri": "https://localhost:8080/",
     "height": 353
    },
    "colab_type": "code",
    "executionInfo": {
     "elapsed": 1359,
     "status": "ok",
     "timestamp": 1564759884837,
     "user": {
      "displayName": "Ranjith M.S",
      "photoUrl": "",
      "userId": "03619660690537035466"
     },
     "user_tz": -330
    },
    "id": "6nyu_QAC2NJk",
    "outputId": "a2fd2d97-b1d7-4c23-fa11-a78d70b3ce2f"
   },
   "outputs": [
    {
     "data": {
      "image/png": "[encoded data removed]",
      "text/plain": [
       "<Figure size 720x360 with 1 Axes>"
      ]
     },
     "metadata": {
      "needs_background": "light"
     },
     "output_type": "display_data"
    }
   ],
   "source": [
    "theta=np.array([0,0.5])\n",
    "Model_price =theta[0]  + (theta[1] *data['x'] )\n",
    "fig, ax = plt.subplots(figsize=(10,5))\n",
    "ax.plot(data['x'], Model_price, 'r', label='Prediction')\n",
    "plt.scatter(data['x'],data['y'],150)\n",
    "plt.title(\"When parameter is (0,0.5) \")\n",
    "plt.xlim(0,5)\n",
    "plt.ylim(0,5)\n",
    "plt.show()"
   ]
  },
  {
   "cell_type": "code",
   "execution_count": 30,
   "metadata": {
    "colab": {
     "base_uri": "https://localhost:8080/",
     "height": 34
    },
    "colab_type": "code",
    "executionInfo": {
     "elapsed": 1111,
     "status": "ok",
     "timestamp": 1564759900736,
     "user": {
      "displayName": "Ranjith M.S",
      "photoUrl": "",
      "userId": "03619660690537035466"
     },
     "user_tz": -330
    },
    "id": "YjCW-f4C9P5H",
    "outputId": "35dbf8c6-5340-41a6-8f6c-18e9c77fbc4a"
   },
   "outputs": [
    {
     "data": {
      "text/plain": [
       "0.75"
      ]
     },
     "execution_count": 30,
     "metadata": {},
     "output_type": "execute_result"
    }
   ],
   "source": [
    "computeCost(X,y,theta)"
   ]
  },
  {
   "cell_type": "markdown",
   "metadata": {
    "colab_type": "text",
    "id": "U47caw6QGKKq"
   },
   "source": [
    "## What is the cost when Θ1=0 ???..."
   ]
  },
  {
   "cell_type": "code",
   "execution_count": 40,
   "metadata": {
    "colab": {
     "base_uri": "https://localhost:8080/",
     "height": 353
    },
    "colab_type": "code",
    "executionInfo": {
     "elapsed": 2090,
     "status": "ok",
     "timestamp": 1564760281401,
     "user": {
      "displayName": "Ranjith M.S",
      "photoUrl": "",
      "userId": "03619660690537035466"
     },
     "user_tz": -330
    },
    "id": "6LI14HmB9T1U",
    "outputId": "ecad9009-7659-4491-9ce0-3fd2fc2bcddf"
   },
   "outputs": [
    {
     "data": {
      "image/png": "[encoded data removed]",
      "text/plain": [
       "<Figure size 720x360 with 1 Axes>"
      ]
     },
     "metadata": {
      "needs_background": "light"
     },
     "output_type": "display_data"
    }
   ],
   "source": [
    "theta=np.array([0,0])\n",
    "Model_price =theta[0]  + (theta[1] *data['x'] )\n",
    "fig, ax = plt.subplots(figsize=(10,5))\n",
    "ax.plot(data['x'], Model_price, 'r', label='Prediction')\n",
    "plt.scatter(data['x'],data['y'],150)\n",
    "plt.title(\"When parameter is (0,0) \")\n",
    "plt.xlim(0,5)\n",
    "plt.ylim(0,10)\n",
    "plt.show()"
   ]
  },
  {
   "cell_type": "code",
   "execution_count": 32,
   "metadata": {
    "colab": {
     "base_uri": "https://localhost:8080/",
     "height": 34
    },
    "colab_type": "code",
    "executionInfo": {
     "elapsed": 1106,
     "status": "ok",
     "timestamp": 1564760284419,
     "user": {
      "displayName": "Ranjith M.S",
      "photoUrl": "",
      "userId": "03619660690537035466"
     },
     "user_tz": -330
    },
    "id": "Bu-mnnGL-V_w",
    "outputId": "c9d3ea3c-ce5a-4537-fa09-6ca6e061a363"
   },
   "outputs": [
    {
     "data": {
      "text/plain": [
       "3.0"
      ]
     },
     "execution_count": 32,
     "metadata": {},
     "output_type": "execute_result"
    }
   ],
   "source": [
    "computeCost(X,y,theta)"
   ]
  },
  {
   "cell_type": "markdown",
   "metadata": {
    "colab_type": "text",
    "id": "3s80VU1xGNK7"
   },
   "source": [
    "## What is the cost when Θ1=1.75 ???..."
   ]
  },
  {
   "cell_type": "code",
   "execution_count": 39,
   "metadata": {
    "colab": {
     "base_uri": "https://localhost:8080/",
     "height": 353
    },
    "colab_type": "code",
    "executionInfo": {
     "elapsed": 1222,
     "status": "ok",
     "timestamp": 1564761740232,
     "user": {
      "displayName": "Ranjith M.S",
      "photoUrl": "",
      "userId": "03619660690537035466"
     },
     "user_tz": -330
    },
    "id": "dji8Y9zQ-eE-",
    "outputId": "3f3cad6b-0431-4835-ec31-5dea2f56d1f3"
   },
   "outputs": [
    {
     "data": {
      "image/png": "[encoded data removed]",
      "text/plain": [
       "<Figure size 720x360 with 1 Axes>"
      ]
     },
     "metadata": {
      "needs_background": "light"
     },
     "output_type": "display_data"
    }
   ],
   "source": [
    "theta=np.array([0,1.75])\n",
    "Model_price =theta[0]  + (theta[1] *data['x'] )\n",
    "fig, ax = plt.subplots(figsize=(10,5))\n",
    "ax.plot(data['x'], Model_price, 'r', label='Prediction')\n",
    "plt.scatter(data['x'],data['y'],150)\n",
    "plt.title(\"When parameter is (0,1.75) \")\n",
    "plt.xlim(0,5)\n",
    "plt.ylim(0,10)\n",
    "plt.show()"
   ]
  },
  {
   "cell_type": "code",
   "execution_count": 34,
   "metadata": {
    "colab": {
     "base_uri": "https://localhost:8080/",
     "height": 34
    },
    "colab_type": "code",
    "executionInfo": {
     "elapsed": 1136,
     "status": "ok",
     "timestamp": 1564761706291,
     "user": {
      "displayName": "Ranjith M.S",
      "photoUrl": "",
      "userId": "03619660690537035466"
     },
     "user_tz": -330
    },
    "id": "iQP-bff-_F3t",
    "outputId": "c8bcfd7b-0a6b-442e-ce20-916cb22662af"
   },
   "outputs": [
    {
     "data": {
      "text/plain": [
       "1.6875"
      ]
     },
     "execution_count": 34,
     "metadata": {},
     "output_type": "execute_result"
    }
   ],
   "source": [
    "computeCost(X,y,theta)"
   ]
  },
  {
   "cell_type": "markdown",
   "metadata": {
    "colab_type": "text",
    "id": "6DHwcvPUGTR6"
   },
   "source": [
    "# How Error Varies With Parameter ??..."
   ]
  },
  {
   "cell_type": "code",
   "execution_count": 35,
   "metadata": {
    "colab": {
     "base_uri": "https://localhost:8080/",
     "height": 295
    },
    "colab_type": "code",
    "executionInfo": {
     "elapsed": 1496,
     "status": "ok",
     "timestamp": 1564761775066,
     "user": {
      "displayName": "Ranjith M.S",
      "photoUrl": "",
      "userId": "03619660690537035466"
     },
     "user_tz": -330
    },
    "id": "RV3KqrG__Knx",
    "outputId": "59032279-782c-4889-9534-6a3da1759481"
   },
   "outputs": [
    {
     "data": {
      "image/png": "[encoded data removed]",
      "text/plain": [
       "<Figure size 432x288 with 1 Axes>"
      ]
     },
     "metadata": {
      "needs_background": "light"
     },
     "output_type": "display_data"
    }
   ],
   "source": [
    "parameter=[0,1,0.5,2,1.5,0.25,1.75]\n",
    "cost=[3,0,0.75,3,0.75,1.6875,1.6875]\n",
    "plt.scatter(parameter,cost)\n",
    "plt.xlabel('θ ------>')\n",
    "plt.ylabel('Cost/Error')\n",
    "plt.title('Parameter V/S Error')\n",
    "plt.show()"
   ]
  },
  {
   "cell_type": "markdown",
   "metadata": {
    "colab_type": "text",
    "id": "ditXGgXOGdGZ"
   },
   "source": [
    "# More Precisely"
   ]
  },
  {
   "cell_type": "code",
   "execution_count": 36,
   "metadata": {
    "colab": {},
    "colab_type": "code",
    "id": "nTtJyFb6ATDY"
   },
   "outputs": [],
   "source": [
    "parameters=[]\n",
    "cost=[]\n",
    "i=-5"
   ]
  },
  {
   "cell_type": "code",
   "execution_count": 37,
   "metadata": {
    "colab": {},
    "colab_type": "code",
    "id": "rRKa-CnV_jso"
   },
   "outputs": [],
   "source": [
    "while i<=7 :\n",
    "  parameters.append(i)\n",
    "  theta[1]=i\n",
    "  i+=0.1\n",
    "  j=computeCost(X,y,theta)\n",
    "  cost.append(j)"
   ]
  },
  {
   "cell_type": "code",
   "execution_count": 38,
   "metadata": {
    "colab": {
     "base_uri": "https://localhost:8080/",
     "height": 295
    },
    "colab_type": "code",
    "executionInfo": {
     "elapsed": 1198,
     "status": "ok",
     "timestamp": 1564761281492,
     "user": {
      "displayName": "Ranjith M.S",
      "photoUrl": "",
      "userId": "03619660690537035466"
     },
     "user_tz": -330
    },
    "id": "gyYDb1TrA7lX",
    "outputId": "021ca7c3-9ddf-4bd2-9090-ca984af75bd3"
   },
   "outputs": [
    {
     "data": {
      "image/png": "[encoded data removed]",
      "text/plain": [
       "<Figure size 432x288 with 1 Axes>"
      ]
     },
     "metadata": {
      "needs_background": "light"
     },
     "output_type": "display_data"
    }
   ],
   "source": [
    "plt.plot(parameters,cost)\n",
    "plt.xlim(-5,7)\n",
    "plt.ylim(0,100)\n",
    "plt.xlabel('θ ------>')\n",
    "plt.ylabel('Cost/Error')\n",
    "plt.title('Parameter V/S Error')\n",
    "plt.show()"
   ]
  },
  {
   "cell_type": "code",
   "execution_count": 0,
   "metadata": {
    "colab": {},
    "colab_type": "code",
    "id": "Z5qVzwFlBGYk"
   },
   "outputs": [],
   "source": []
  }
 ],
 "metadata": {
  "colab": {
   "name": "Plots.ipynb",
   "provenance": [],
   "version": "0.3.2"
  },
  "kernelspec": {
   "display_name": "Python 3",
   "language": "python",
   "name": "python3"
  },
  "language_info": {
   "codemirror_mode": {
    "name": "ipython",
    "version": 3
   },
   "file_extension": ".py",
   "mimetype": "text/x-python",
   "name": "python",
   "nbconvert_exporter": "python",
   "pygments_lexer": "ipython3",
   "version": "3.7.3"
  }
 },
 "nbformat": 4,
 "nbformat_minor": 1
}
